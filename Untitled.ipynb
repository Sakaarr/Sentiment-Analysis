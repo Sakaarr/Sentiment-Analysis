{
 "cells": [
  {
   "cell_type": "code",
   "execution_count": 4,
   "id": "04c77381",
   "metadata": {},
   "outputs": [],
   "source": [
    "import pandas as pd\n"
   ]
  },
  {
   "cell_type": "code",
   "execution_count": 5,
   "id": "338a24f2",
   "metadata": {},
   "outputs": [],
   "source": [
    "import numpy as np"
   ]
  },
  {
   "cell_type": "code",
   "execution_count": 6,
   "id": "9a991114",
   "metadata": {},
   "outputs": [],
   "source": [
    "import matplotlib.pyplot as plt"
   ]
  },
  {
   "cell_type": "code",
   "execution_count": 7,
   "id": "4d63d31a",
   "metadata": {},
   "outputs": [],
   "source": [
    "import seaborn as sns"
   ]
  },
  {
   "cell_type": "code",
   "execution_count": 8,
   "id": "86443e47",
   "metadata": {},
   "outputs": [
    {
     "name": "stdout",
     "output_type": "stream",
     "text": [
      "Requirement already satisfied: seaborn in c:\\python\\lib\\site-packages (0.13.2)\n",
      "Requirement already satisfied: numpy!=1.24.0,>=1.20 in c:\\python\\lib\\site-packages (from seaborn) (1.24.1)\n",
      "Requirement already satisfied: pandas>=1.2 in c:\\python\\lib\\site-packages (from seaborn) (1.5.3)\n",
      "Requirement already satisfied: matplotlib!=3.6.1,>=3.4 in c:\\python\\lib\\site-packages (from seaborn) (3.6.3)\n",
      "Requirement already satisfied: contourpy>=1.0.1 in c:\\python\\lib\\site-packages (from matplotlib!=3.6.1,>=3.4->seaborn) (1.0.7)\n",
      "Requirement already satisfied: cycler>=0.10 in c:\\python\\lib\\site-packages (from matplotlib!=3.6.1,>=3.4->seaborn) (0.11.0)\n",
      "Requirement already satisfied: fonttools>=4.22.0 in c:\\python\\lib\\site-packages (from matplotlib!=3.6.1,>=3.4->seaborn) (4.38.0)\n",
      "Requirement already satisfied: kiwisolver>=1.0.1 in c:\\python\\lib\\site-packages (from matplotlib!=3.6.1,>=3.4->seaborn) (1.4.4)\n",
      "Requirement already satisfied: packaging>=20.0 in c:\\python\\lib\\site-packages (from matplotlib!=3.6.1,>=3.4->seaborn) (23.0)\n",
      "Requirement already satisfied: pillow>=6.2.0 in c:\\python\\lib\\site-packages (from matplotlib!=3.6.1,>=3.4->seaborn) (10.2.0)\n",
      "Requirement already satisfied: pyparsing>=2.2.1 in c:\\python\\lib\\site-packages (from matplotlib!=3.6.1,>=3.4->seaborn) (3.0.9)\n",
      "Requirement already satisfied: python-dateutil>=2.7 in c:\\python\\lib\\site-packages (from matplotlib!=3.6.1,>=3.4->seaborn) (2.8.2)\n",
      "Requirement already satisfied: pytz>=2020.1 in c:\\python\\lib\\site-packages (from pandas>=1.2->seaborn) (2022.6)\n",
      "Requirement already satisfied: six>=1.5 in c:\\python\\lib\\site-packages (from python-dateutil>=2.7->matplotlib!=3.6.1,>=3.4->seaborn) (1.16.0)\n",
      "Note: you may need to restart the kernel to use updated packages.\n"
     ]
    },
    {
     "name": "stderr",
     "output_type": "stream",
     "text": [
      "DEPRECATION: Loading egg at c:\\python\\lib\\site-packages\\vboxapi-1.0-py3.11.egg is deprecated. pip 24.3 will enforce this behaviour change. A possible replacement is to use pip for package installation.. Discussion can be found at https://github.com/pypa/pip/issues/12330\n",
      "\n",
      "[notice] A new release of pip is available: 24.0 -> 24.1\n",
      "[notice] To update, run: python.exe -m pip install --upgrade pip\n"
     ]
    }
   ],
   "source": [
    "pip install seaborn"
   ]
  },
  {
   "cell_type": "code",
   "execution_count": 9,
   "id": "3fcd3547",
   "metadata": {},
   "outputs": [],
   "source": [
    "import seaborn as sns"
   ]
  },
  {
   "cell_type": "code",
   "execution_count": 10,
   "id": "229208de",
   "metadata": {},
   "outputs": [],
   "source": [
    "plt.style.use('ggplot')"
   ]
  },
  {
   "cell_type": "code",
   "execution_count": 11,
   "id": "4022c3cd",
   "metadata": {},
   "outputs": [],
   "source": [
    "import nltk\n"
   ]
  },
  {
   "cell_type": "code",
   "execution_count": 12,
   "id": "d0eaa960",
   "metadata": {},
   "outputs": [],
   "source": [
    "df = pd.read_csv('Tweets.csv')"
   ]
  },
  {
   "cell_type": "code",
   "execution_count": 13,
   "id": "aba2d857",
   "metadata": {},
   "outputs": [
    {
     "data": {
      "text/html": [
       "<div>\n",
       "<style scoped>\n",
       "    .dataframe tbody tr th:only-of-type {\n",
       "        vertical-align: middle;\n",
       "    }\n",
       "\n",
       "    .dataframe tbody tr th {\n",
       "        vertical-align: top;\n",
       "    }\n",
       "\n",
       "    .dataframe thead th {\n",
       "        text-align: right;\n",
       "    }\n",
       "</style>\n",
       "<table border=\"1\" class=\"dataframe\">\n",
       "  <thead>\n",
       "    <tr style=\"text-align: right;\">\n",
       "      <th></th>\n",
       "      <th>textID</th>\n",
       "      <th>text</th>\n",
       "      <th>selected_text</th>\n",
       "      <th>sentiment</th>\n",
       "    </tr>\n",
       "  </thead>\n",
       "  <tbody>\n",
       "    <tr>\n",
       "      <th>0</th>\n",
       "      <td>cb774db0d1</td>\n",
       "      <td>I`d have responded, if I were going</td>\n",
       "      <td>I`d have responded, if I were going</td>\n",
       "      <td>neutral</td>\n",
       "    </tr>\n",
       "    <tr>\n",
       "      <th>1</th>\n",
       "      <td>549e992a42</td>\n",
       "      <td>Sooo SAD I will miss you here in San Diego!!!</td>\n",
       "      <td>Sooo SAD</td>\n",
       "      <td>negative</td>\n",
       "    </tr>\n",
       "    <tr>\n",
       "      <th>2</th>\n",
       "      <td>088c60f138</td>\n",
       "      <td>my boss is bullying me...</td>\n",
       "      <td>bullying me</td>\n",
       "      <td>negative</td>\n",
       "    </tr>\n",
       "    <tr>\n",
       "      <th>3</th>\n",
       "      <td>9642c003ef</td>\n",
       "      <td>what interview! leave me alone</td>\n",
       "      <td>leave me alone</td>\n",
       "      <td>negative</td>\n",
       "    </tr>\n",
       "    <tr>\n",
       "      <th>4</th>\n",
       "      <td>358bd9e861</td>\n",
       "      <td>Sons of ****, why couldn`t they put them on t...</td>\n",
       "      <td>Sons of ****,</td>\n",
       "      <td>negative</td>\n",
       "    </tr>\n",
       "  </tbody>\n",
       "</table>\n",
       "</div>"
      ],
      "text/plain": [
       "       textID                                               text  \\\n",
       "0  cb774db0d1                I`d have responded, if I were going   \n",
       "1  549e992a42      Sooo SAD I will miss you here in San Diego!!!   \n",
       "2  088c60f138                          my boss is bullying me...   \n",
       "3  9642c003ef                     what interview! leave me alone   \n",
       "4  358bd9e861   Sons of ****, why couldn`t they put them on t...   \n",
       "\n",
       "                         selected_text sentiment  \n",
       "0  I`d have responded, if I were going   neutral  \n",
       "1                             Sooo SAD  negative  \n",
       "2                          bullying me  negative  \n",
       "3                       leave me alone  negative  \n",
       "4                        Sons of ****,  negative  "
      ]
     },
     "execution_count": 13,
     "metadata": {},
     "output_type": "execute_result"
    }
   ],
   "source": [
    "df.head()"
   ]
  },
  {
   "cell_type": "code",
   "execution_count": 14,
   "id": "2047f225",
   "metadata": {},
   "outputs": [
    {
     "name": "stdout",
     "output_type": "stream",
     "text": [
      "(27481, 4)\n"
     ]
    }
   ],
   "source": [
    " print(df.shape)"
   ]
  },
  {
   "cell_type": "code",
   "execution_count": 15,
   "id": "20c78ff0",
   "metadata": {},
   "outputs": [
    {
     "name": "stderr",
     "output_type": "stream",
     "text": [
      "C:\\Users\\DELL\\AppData\\Local\\Temp\\ipykernel_26504\\3227182112.py:3: FutureWarning: \n",
      "\n",
      "Passing `palette` without assigning `hue` is deprecated and will be removed in v0.14.0. Assign the `x` variable to `hue` and set `legend=False` for the same effect.\n",
      "\n",
      "  sns.barplot(x=sentiment_counts.index, y=sentiment_counts.values, palette='viridis')\n"
     ]
    },
    {
     "data": {
      "image/png": "[encoded data removed]",
      "text/plain": [
       "<Figure size 800x600 with 1 Axes>"
      ]
     },
     "metadata": {},
     "output_type": "display_data"
    }
   ],
   "source": [
    "sentiment_counts = df['sentiment'].value_counts()\n",
    "plt.figure(figsize=(8, 6))\n",
    "sns.barplot(x=sentiment_counts.index, y=sentiment_counts.values, palette='viridis')\n",
    "plt.title('Sentiment Distribution')\n",
    "plt.xlabel('Sentiment')\n",
    "plt.ylabel('Count')\n",
    "plt.show()"
   ]
  },
  {
   "cell_type": "code",
   "execution_count": 16,
   "id": "c0b33d62",
   "metadata": {},
   "outputs": [],
   "source": [
    "example = df['text'][100]"
   ]
  },
  {
   "cell_type": "code",
   "execution_count": 17,
   "id": "e437a73c",
   "metadata": {},
   "outputs": [
    {
     "name": "stdout",
     "output_type": "stream",
     "text": [
      "4am. And Im on the beach. Pretty\n"
     ]
    }
   ],
   "source": [
    "print(example)"
   ]
  },
  {
   "cell_type": "code",
   "execution_count": 18,
   "id": "d0f73bd5",
   "metadata": {},
   "outputs": [],
   "source": [
    "example = df['sentiment'][100]"
   ]
  },
  {
   "cell_type": "code",
   "execution_count": 19,
   "id": "b2a95d6e",
   "metadata": {},
   "outputs": [
    {
     "name": "stdout",
     "output_type": "stream",
     "text": [
      "positive\n"
     ]
    }
   ],
   "source": [
    "print(example)"
   ]
  },
  {
   "cell_type": "code",
   "execution_count": 20,
   "id": "1d906b1a",
   "metadata": {},
   "outputs": [],
   "source": [
    "text = df['text'][1500]"
   ]
  },
  {
   "cell_type": "code",
   "execution_count": 21,
   "id": "4266b7db",
   "metadata": {},
   "outputs": [
    {
     "name": "stdout",
     "output_type": "stream",
     "text": [
      "This wind is crampin` my style. I have a section of my yard that won`t get any water. I`d move the sprinkler, but it`s surrounded by mud.\n"
     ]
    }
   ],
   "source": [
    "print(text)"
   ]
  },
  {
   "cell_type": "code",
   "execution_count": 22,
   "id": "0aa7574f",
   "metadata": {},
   "outputs": [
    {
     "data": {
      "text/plain": [
       "['This', 'wind', 'is', 'crampin', '`', 'my', 'style', '.', 'I', 'have']"
      ]
     },
     "execution_count": 22,
     "metadata": {},
     "output_type": "execute_result"
    }
   ],
   "source": [
    "tokens = nltk.word_tokenize(text)\n",
    "tokens[:10]"
   ]
  },
  {
   "cell_type": "code",
   "execution_count": 23,
   "id": "7d943cfb",
   "metadata": {},
   "outputs": [
    {
     "data": {
      "text/plain": [
       "[('This', 'DT'),\n",
       " ('wind', 'NN'),\n",
       " ('is', 'VBZ'),\n",
       " ('crampin', 'JJ'),\n",
       " ('`', '``'),\n",
       " ('my', 'PRP$'),\n",
       " ('style', 'NN'),\n",
       " ('.', '.'),\n",
       " ('I', 'PRP'),\n",
       " ('have', 'VBP')]"
      ]
     },
     "execution_count": 23,
     "metadata": {},
     "output_type": "execute_result"
    }
   ],
   "source": [
    "tagged = nltk.pos_tag(tokens)\n",
    "tagged[:10]"
   ]
  },
  {
   "cell_type": "code",
   "execution_count": 24,
   "id": "be4ab63d",
   "metadata": {},
   "outputs": [
    {
     "name": "stderr",
     "output_type": "stream",
     "text": [
      "[nltk_data] Downloading package averaged_perceptron_tagger to\n",
      "[nltk_data]     C:\\Users\\DELL\\AppData\\Roaming\\nltk_data...\n",
      "[nltk_data]   Package averaged_perceptron_tagger is already up-to-\n",
      "[nltk_data]       date!\n"
     ]
    },
    {
     "data": {
      "text/plain": [
       "True"
      ]
     },
     "execution_count": 24,
     "metadata": {},
     "output_type": "execute_result"
    }
   ],
   "source": [
    "nltk.download('averaged_perceptron_tagger')"
   ]
  },
  {
   "cell_type": "code",
   "execution_count": 25,
   "id": "9b7e5177",
   "metadata": {},
   "outputs": [
    {
     "name": "stdout",
     "output_type": "stream",
     "text": [
      "(S\n",
      "  This/DT\n",
      "  wind/NN\n",
      "  is/VBZ\n",
      "  crampin/JJ\n",
      "  `/``\n",
      "  my/PRP$\n",
      "  style/NN\n",
      "  ./.\n",
      "  I/PRP\n",
      "  have/VBP\n",
      "  a/DT\n",
      "  section/NN\n",
      "  of/IN\n",
      "  my/PRP$\n",
      "  yard/NN\n",
      "  that/IN\n",
      "  won/VBD\n",
      "  `/``\n",
      "  t/RB\n",
      "  get/VB\n",
      "  any/DT\n",
      "  water/NN\n",
      "  ./.\n",
      "  I/PRP\n",
      "  `/``\n",
      "  d/RB\n",
      "  move/VB\n",
      "  the/DT\n",
      "  sprinkler/NN\n",
      "  ,/,\n",
      "  but/CC\n",
      "  it/PRP\n",
      "  `/``\n",
      "  s/RB\n",
      "  surrounded/VBN\n",
      "  by/IN\n",
      "  mud/NN\n",
      "  ./.)\n"
     ]
    }
   ],
   "source": [
    "entities = nltk.chunk.ne_chunk(tagged)\n",
    "entities.pprint()"
   ]
  },
  {
   "cell_type": "code",
   "execution_count": 26,
   "id": "517d9ae7",
   "metadata": {},
   "outputs": [
    {
     "name": "stderr",
     "output_type": "stream",
     "text": [
      "[nltk_data] Downloading package maxent_ne_chunker to\n",
      "[nltk_data]     C:\\Users\\DELL\\AppData\\Roaming\\nltk_data...\n",
      "[nltk_data]   Package maxent_ne_chunker is already up-to-date!\n"
     ]
    },
    {
     "data": {
      "text/plain": [
       "True"
      ]
     },
     "execution_count": 26,
     "metadata": {},
     "output_type": "execute_result"
    }
   ],
   "source": [
    "nltk.download('maxent_ne_chunker')"
   ]
  },
  {
   "cell_type": "code",
   "execution_count": 27,
   "id": "118a7c71",
   "metadata": {},
   "outputs": [
    {
     "name": "stderr",
     "output_type": "stream",
     "text": [
      "[nltk_data] Downloading package words to\n",
      "[nltk_data]     C:\\Users\\DELL\\AppData\\Roaming\\nltk_data...\n",
      "[nltk_data]   Package words is already up-to-date!\n"
     ]
    },
    {
     "data": {
      "text/plain": [
       "True"
      ]
     },
     "execution_count": 27,
     "metadata": {},
     "output_type": "execute_result"
    }
   ],
   "source": [
    "nltk.download('words')"
   ]
  },
  {
   "cell_type": "code",
   "execution_count": 28,
   "id": "8469ebfb",
   "metadata": {},
   "outputs": [],
   "source": [
    "#VADER"
   ]
  },
  {
   "cell_type": "code",
   "execution_count": 29,
   "id": "d0fa5aaa",
   "metadata": {},
   "outputs": [],
   "source": [
    "from nltk.sentiment import SentimentIntensityAnalyzer\n",
    "from tqdm.notebook import tqdm\n",
    "sia = SentimentIntensityAnalyzer()"
   ]
  },
  {
   "cell_type": "code",
   "execution_count": 30,
   "id": "5e29ed41",
   "metadata": {},
   "outputs": [],
   "source": [
    "from nltk.sentiment import SentimentIntensityAnalyzer\n",
    "from tqdm.notebook import tqdm\n",
    "sia = SentimentIntensityAnalyzer()"
   ]
  },
  {
   "cell_type": "code",
   "execution_count": 31,
   "id": "2fe23022",
   "metadata": {},
   "outputs": [
    {
     "name": "stderr",
     "output_type": "stream",
     "text": [
      "[nltk_data] Downloading package vader_lexicon to\n",
      "[nltk_data]     C:\\Users\\DELL\\AppData\\Roaming\\nltk_data...\n",
      "[nltk_data]   Package vader_lexicon is already up-to-date!\n"
     ]
    },
    {
     "data": {
      "text/plain": [
       "True"
      ]
     },
     "execution_count": 31,
     "metadata": {},
     "output_type": "execute_result"
    }
   ],
   "source": [
    "nltk.download('vader_lexicon')"
   ]
  },
  {
   "cell_type": "code",
   "execution_count": 32,
   "id": "9decaf47",
   "metadata": {},
   "outputs": [
    {
     "data": {
      "text/plain": [
       "<nltk.sentiment.vader.SentimentIntensityAnalyzer at 0x286a48d8b10>"
      ]
     },
     "execution_count": 32,
     "metadata": {},
     "output_type": "execute_result"
    }
   ],
   "source": [
    "sia\n"
   ]
  },
  {
   "cell_type": "code",
   "execution_count": 33,
   "id": "09247c20",
   "metadata": {},
   "outputs": [
    {
     "data": {
      "text/plain": [
       "{'neg': 0.428, 'neu': 0.572, 'pos': 0.0, 'compound': -0.4585}"
      ]
     },
     "execution_count": 33,
     "metadata": {},
     "output_type": "execute_result"
    }
   ],
   "source": [
    "sia.polarity_scores(\"I am not happy at all\")"
   ]
  },
  {
   "cell_type": "code",
   "execution_count": 34,
   "id": "a02e469a",
   "metadata": {},
   "outputs": [
    {
     "data": {
      "text/plain": [
       "{'neg': 0.0, 'neu': 1.0, 'pos': 0.0, 'compound': 0.0}"
      ]
     },
     "execution_count": 34,
     "metadata": {},
     "output_type": "execute_result"
    }
   ],
   "source": [
    "sia.polarity_scores(\"I have not been able to do all my homework\")"
   ]
  },
  {
   "cell_type": "code",
   "execution_count": 35,
   "id": "1ea76b67",
   "metadata": {},
   "outputs": [
    {
     "data": {
      "text/plain": [
       "{'neg': 0.376, 'neu': 0.624, 'pos': 0.0, 'compound': -0.3412}"
      ]
     },
     "execution_count": 35,
     "metadata": {},
     "output_type": "execute_result"
    }
   ],
   "source": [
    "sia.polarity_scores(\"This is not a good product\")"
   ]
  },
  {
   "cell_type": "code",
   "execution_count": 36,
   "id": "93c9c287",
   "metadata": {},
   "outputs": [
    {
     "data": {
      "text/plain": [
       "'positive'"
      ]
     },
     "execution_count": 36,
     "metadata": {},
     "output_type": "execute_result"
    }
   ],
   "source": [
    "example\n"
   ]
  },
  {
   "cell_type": "code",
   "execution_count": 37,
   "id": "57bad8ab",
   "metadata": {},
   "outputs": [
    {
     "data": {
      "text/plain": [
       "'This wind is crampin` my style. I have a section of my yard that won`t get any water. I`d move the sprinkler, but it`s surrounded by mud.'"
      ]
     },
     "execution_count": 37,
     "metadata": {},
     "output_type": "execute_result"
    }
   ],
   "source": [
    "text"
   ]
  },
  {
   "cell_type": "code",
   "execution_count": 38,
   "id": "a4f44b68",
   "metadata": {},
   "outputs": [
    {
     "data": {
      "text/plain": [
       "{'neg': 0.0, 'neu': 1.0, 'pos': 0.0, 'compound': 0.0}"
      ]
     },
     "execution_count": 38,
     "metadata": {},
     "output_type": "execute_result"
    }
   ],
   "source": [
    "sia.polarity_scores(text)"
   ]
  },
  {
   "cell_type": "code",
   "execution_count": 39,
   "id": "248cda0a",
   "metadata": {},
   "outputs": [],
   "source": [
    "example = df['sentiment'][1500]"
   ]
  },
  {
   "cell_type": "code",
   "execution_count": 40,
   "id": "b033b18f",
   "metadata": {},
   "outputs": [
    {
     "data": {
      "text/plain": [
       "'negative'"
      ]
     },
     "execution_count": 40,
     "metadata": {},
     "output_type": "execute_result"
    }
   ],
   "source": [
    "example"
   ]
  },
  {
   "cell_type": "code",
   "execution_count": 41,
   "id": "49f4c7c4",
   "metadata": {
    "scrolled": false
   },
   "outputs": [
    {
     "data": {
      "application/vnd.jupyter.widget-view+json": {
       "model_id": "439ed552c64d4eb599382d799ae49838",
       "version_major": 2,
       "version_minor": 0
      },
      "text/plain": [
       "0it [00:00, ?it/s]"
      ]
     },
     "metadata": {},
     "output_type": "display_data"
    }
   ],
   "source": [
    "#On Entire Dataset\n",
    "for i, row in tqdm(df.iterrows()):\n",
    "    text = row['selected_text']\n",
    "    myid = row['textID']\n",
    "    break"
   ]
  },
  {
   "cell_type": "code",
   "execution_count": 42,
   "id": "2f9d0293",
   "metadata": {},
   "outputs": [
    {
     "data": {
      "application/vnd.jupyter.widget-view+json": {
       "model_id": "cc8df86eebf94f71b77f0efa3cdcb821",
       "version_major": 2,
       "version_minor": 0
      },
      "text/plain": [
       "0it [00:00, ?it/s]"
      ]
     },
     "metadata": {},
     "output_type": "display_data"
    }
   ],
   "source": [
    "#On Entire Dataset\n",
    "for i, row in tqdm(df.iterrows()):\n",
    "    text = row['selected_text']\n",
    "    myid = row['textID']\n",
    "    break"
   ]
  },
  {
   "cell_type": "code",
   "execution_count": 43,
   "id": "0f03e7ba",
   "metadata": {},
   "outputs": [],
   "source": [
    "from tqdm.notebook import tqdm"
   ]
  },
  {
   "cell_type": "code",
   "execution_count": 44,
   "id": "c0192b38",
   "metadata": {},
   "outputs": [
    {
     "data": {
      "application/vnd.jupyter.widget-view+json": {
       "model_id": "c507bbcc291f40f295468d327b23811d",
       "version_major": 2,
       "version_minor": 0
      },
      "text/plain": [
       "0it [00:00, ?it/s]"
      ]
     },
     "metadata": {},
     "output_type": "display_data"
    }
   ],
   "source": [
    "#On Entire Dataset\n",
    "for i, row in tqdm(df.iterrows()):\n",
    "    text = row['selected_text']\n",
    "    myid = row['textID']\n",
    "    break"
   ]
  },
  {
   "cell_type": "code",
   "execution_count": 52,
   "id": "a05993f4",
   "metadata": {},
   "outputs": [
    {
     "data": {
      "application/vnd.jupyter.widget-view+json": {
       "model_id": "53d3bbff477a48dcbf10eeb9f081211b",
       "version_major": 2,
       "version_minor": 0
      },
      "text/plain": [
       "  0%|          | 0/27481 [00:00<?, ?it/s]"
      ]
     },
     "metadata": {},
     "output_type": "display_data"
    },
    {
     "ename": "AttributeError",
     "evalue": "'float' object has no attribute 'encode'",
     "output_type": "error",
     "traceback": [
      "\u001b[1;31m---------------------------------------------------------------------------\u001b[0m",
      "\u001b[1;31mAttributeError\u001b[0m                            Traceback (most recent call last)",
      "Cell \u001b[1;32mIn[52], line 7\u001b[0m\n\u001b[0;32m      5\u001b[0m text \u001b[38;5;241m=\u001b[39m row[\u001b[38;5;124m'\u001b[39m\u001b[38;5;124mselected_text\u001b[39m\u001b[38;5;124m'\u001b[39m]\n\u001b[0;32m      6\u001b[0m myid \u001b[38;5;241m=\u001b[39m row[\u001b[38;5;124m'\u001b[39m\u001b[38;5;124mtextID\u001b[39m\u001b[38;5;124m'\u001b[39m]\n\u001b[1;32m----> 7\u001b[0m res[myid] \u001b[38;5;241m=\u001b[39m \u001b[43msia\u001b[49m\u001b[38;5;241;43m.\u001b[39;49m\u001b[43mpolarity_scores\u001b[49m\u001b[43m(\u001b[49m\u001b[43mtext\u001b[49m\u001b[43m)\u001b[49m\n",
      "File \u001b[1;32mC:\\Python\\Lib\\site-packages\\nltk\\sentiment\\vader.py:366\u001b[0m, in \u001b[0;36mSentimentIntensityAnalyzer.polarity_scores\u001b[1;34m(self, text)\u001b[0m\n\u001b[0;32m    355\u001b[0m \u001b[38;5;250m\u001b[39m\u001b[38;5;124;03m\"\"\"\u001b[39;00m\n\u001b[0;32m    356\u001b[0m \u001b[38;5;124;03mReturn a float for sentiment strength based on the input text.\u001b[39;00m\n\u001b[0;32m    357\u001b[0m \u001b[38;5;124;03mPositive values are positive valence, negative value are negative\u001b[39;00m\n\u001b[1;32m   (...)\u001b[0m\n\u001b[0;32m    363\u001b[0m \u001b[38;5;124;03m    matched as if it was a normal word in the sentence.\u001b[39;00m\n\u001b[0;32m    364\u001b[0m \u001b[38;5;124;03m\"\"\"\u001b[39;00m\n\u001b[0;32m    365\u001b[0m \u001b[38;5;66;03m# text, words_and_emoticons, is_cap_diff = self.preprocess(text)\u001b[39;00m\n\u001b[1;32m--> 366\u001b[0m sentitext \u001b[38;5;241m=\u001b[39m \u001b[43mSentiText\u001b[49m\u001b[43m(\u001b[49m\n\u001b[0;32m    367\u001b[0m \u001b[43m    \u001b[49m\u001b[43mtext\u001b[49m\u001b[43m,\u001b[49m\u001b[43m \u001b[49m\u001b[38;5;28;43mself\u001b[39;49m\u001b[38;5;241;43m.\u001b[39;49m\u001b[43mconstants\u001b[49m\u001b[38;5;241;43m.\u001b[39;49m\u001b[43mPUNC_LIST\u001b[49m\u001b[43m,\u001b[49m\u001b[43m \u001b[49m\u001b[38;5;28;43mself\u001b[39;49m\u001b[38;5;241;43m.\u001b[39;49m\u001b[43mconstants\u001b[49m\u001b[38;5;241;43m.\u001b[39;49m\u001b[43mREGEX_REMOVE_PUNCTUATION\u001b[49m\n\u001b[0;32m    368\u001b[0m \u001b[43m\u001b[49m\u001b[43m)\u001b[49m\n\u001b[0;32m    369\u001b[0m sentiments \u001b[38;5;241m=\u001b[39m []\n\u001b[0;32m    370\u001b[0m words_and_emoticons \u001b[38;5;241m=\u001b[39m sentitext\u001b[38;5;241m.\u001b[39mwords_and_emoticons\n",
      "File \u001b[1;32mC:\\Python\\Lib\\site-packages\\nltk\\sentiment\\vader.py:270\u001b[0m, in \u001b[0;36mSentiText.__init__\u001b[1;34m(self, text, punc_list, regex_remove_punctuation)\u001b[0m\n\u001b[0;32m    268\u001b[0m \u001b[38;5;28;01mdef\u001b[39;00m \u001b[38;5;21m__init__\u001b[39m(\u001b[38;5;28mself\u001b[39m, text, punc_list, regex_remove_punctuation):\n\u001b[0;32m    269\u001b[0m     \u001b[38;5;28;01mif\u001b[39;00m \u001b[38;5;129;01mnot\u001b[39;00m \u001b[38;5;28misinstance\u001b[39m(text, \u001b[38;5;28mstr\u001b[39m):\n\u001b[1;32m--> 270\u001b[0m         text \u001b[38;5;241m=\u001b[39m \u001b[38;5;28mstr\u001b[39m(\u001b[43mtext\u001b[49m\u001b[38;5;241;43m.\u001b[39;49m\u001b[43mencode\u001b[49m(\u001b[38;5;124m\"\u001b[39m\u001b[38;5;124mutf-8\u001b[39m\u001b[38;5;124m\"\u001b[39m))\n\u001b[0;32m    271\u001b[0m     \u001b[38;5;28mself\u001b[39m\u001b[38;5;241m.\u001b[39mtext \u001b[38;5;241m=\u001b[39m text\n\u001b[0;32m    272\u001b[0m     \u001b[38;5;28mself\u001b[39m\u001b[38;5;241m.\u001b[39mPUNC_LIST \u001b[38;5;241m=\u001b[39m punc_list\n",
      "\u001b[1;31mAttributeError\u001b[0m: 'float' object has no attribute 'encode'"
     ]
    }
   ],
   "source": [
    "#On Entire Dataset\n",
    "res={}\n",
    "for i, row in tqdm(df.iterrows(), total = len(df)):\n",
    "    df['selected_text'] = df['selected_text'].fillna('').astype(str)\n",
    "    text = row['selected_text']\n",
    "    myid = row['textID']\n",
    "    res[myid] = sia.polarity_scores(text)"
   ]
  },
  {
   "cell_type": "code",
   "execution_count": 54,
   "id": "0a8fa2ba",
   "metadata": {},
   "outputs": [
    {
     "data": {
      "application/vnd.jupyter.widget-view+json": {
       "model_id": "e5b78e50703e442dafda77e2c8fdf780",
       "version_major": 2,
       "version_minor": 0
      },
      "text/plain": [
       "  0%|          | 0/27481 [00:00<?, ?it/s]"
      ]
     },
     "metadata": {},
     "output_type": "display_data"
    }
   ],
   "source": [
    "df['text'] = df['text'].fillna('').apply(str)\n",
    "res={}\n",
    "for i, row in tqdm(df.iterrows(), total = len(df)):\n",
    "    text = row['text']\n",
    "    myid = row['textID']\n",
    "    res[myid] = sia.polarity_scores(text)"
   ]
  },
  {
   "cell_type": "code",
   "execution_count": 55,
   "id": "cddb2d90",
   "metadata": {},
   "outputs": [
    {
     "data": {
      "text/plain": [
       "{'cb774db0d1': {'neg': 0.0, 'neu': 1.0, 'pos': 0.0, 'compound': 0.0},\n",
       " '549e992a42': {'neg': 0.474, 'neu': 0.526, 'pos': 0.0, 'compound': -0.7437},\n",
       " '088c60f138': {'neg': 0.494, 'neu': 0.506, 'pos': 0.0, 'compound': -0.5994},\n",
       " '9642c003ef': {'neg': 0.538, 'neu': 0.462, 'pos': 0.0, 'compound': -0.3595},\n",
       " '358bd9e861': {'neg': 0.0, 'neu': 1.0, 'pos': 0.0, 'compound': 0.0},\n",
       " '28b57f3990': {'neg': 0.154, 'neu': 0.577, 'pos': 0.269, 'compound': 0.4215},\n",
       " '6e0c6d75b1': {'neg': 0.0, 'neu': 0.652, 'pos': 0.348, 'compound': 0.7506},\n",
       " '50e14c0bb8': {'neg': 0.0, 'neu': 1.0, 'pos': 0.0, 'compound': 0.0},\n",
       " 'e050245fbd': {'neg': 0.0, 'neu': 1.0, 'pos': 0.0, 'compound': 0.0},\n",
       " 'fc2cbefa9d': {'neg': 0.0, 'neu': 1.0, 'pos': 0.0, 'compound': 0.0},\n",
       " '2339a9b08b': {'neg': 0.0, 'neu': 0.58, 'pos': 0.42, 'compound': 0.9068},\n",
       " '16fab9f95b': {'neg': 0.0, 'neu': 0.436, 'pos': 0.564, 'compound': 0.8431},\n",
       " '74a76f6e0a': {'neg': 0.459, 'neu': 0.541, 'pos': 0.0, 'compound': -0.6249},\n",
       " '04dd1d2e34': {'neg': 0.244, 'neu': 0.661, 'pos': 0.095, 'compound': -0.4215},\n",
       " 'bbe3cbf620': {'neg': 0.0, 'neu': 1.0, 'pos': 0.0, 'compound': 0.0},\n",
       " '8a939bfb59': {'neg': 0.0, 'neu': 1.0, 'pos': 0.0, 'compound': 0.0},\n",
       " '3440297f8b': {'neg': 0.0, 'neu': 1.0, 'pos': 0.0, 'compound': 0.0},\n",
       " '919fa93391': {'neg': 0.13, 'neu': 0.87, 'pos': 0.0, 'compound': -0.5106},\n",
       " 'af3fed7fc3': {'neg': 0.186, 'neu': 0.814, 'pos': 0.0, 'compound': -0.1531},\n",
       " '40e7becabf': {'neg': 0.0, 'neu': 1.0, 'pos': 0.0, 'compound': 0.0},\n",
       " '04d17ef61e': {'neg': 0.088, 'neu': 0.402, 'pos': 0.51, 'compound': 0.8557},\n",
       " 'e48b0b8a23': {'neg': 0.085, 'neu': 0.738, 'pos': 0.177, 'compound': 0.3597},\n",
       " '7de057cf40': {'neg': 0.0, 'neu': 1.0, 'pos': 0.0, 'compound': 0.0},\n",
       " '9ce5570064': {'neg': 0.0, 'neu': 1.0, 'pos': 0.0, 'compound': 0.0},\n",
       " '0c8cc71c46': {'neg': 0.333, 'neu': 0.667, 'pos': 0.0, 'compound': -0.6124},\n",
       " 'e00c6ef376': {'neg': 0.0, 'neu': 0.577, 'pos': 0.423, 'compound': 0.765},\n",
       " '852edc3769': {'neg': 0.565, 'neu': 0.435, 'pos': 0.0, 'compound': -0.0772},\n",
       " 'bdc32ea43c': {'neg': 0.0, 'neu': 1.0, 'pos': 0.0, 'compound': 0.0},\n",
       " '6ce4a4954b': {'neg': 0.0, 'neu': 0.837, 'pos': 0.163, 'compound': 0.5106},\n",
       " 'd22e6d40a7': {'neg': 0.123, 'neu': 0.877, 'pos': 0.0, 'compound': -0.2732},\n",
       " 'd33f811375': {'neg': 0.0, 'neu': 1.0, 'pos': 0.0, 'compound': 0.0},\n",
       " '7d8c4c11e4': {'neg': 0.197, 'neu': 0.552, 'pos': 0.251, 'compound': 0.1759},\n",
       " '1c31703aef': {'neg': 0.095, 'neu': 0.712, 'pos': 0.193, 'compound': 0.4404},\n",
       " '2dc51711bc': {'neg': 0.0, 'neu': 0.317, 'pos': 0.683, 'compound': 0.7559},\n",
       " 'd21ab5855b': {'neg': 0.0, 'neu': 0.612, 'pos': 0.388, 'compound': 0.8591},\n",
       " '4f5267ad70': {'neg': 0.244, 'neu': 0.57, 'pos': 0.187, 'compound': -0.0258},\n",
       " '2724775d6b': {'neg': 0.106, 'neu': 0.894, 'pos': 0.0, 'compound': -0.2244},\n",
       " '1cbc812ece': {'neg': 0.0, 'neu': 1.0, 'pos': 0.0, 'compound': 0.0},\n",
       " '4b61dffbeb': {'neg': 0.0, 'neu': 1.0, 'pos': 0.0, 'compound': 0.0},\n",
       " '2863f435bd': {'neg': 0.0, 'neu': 0.442, 'pos': 0.558, 'compound': 0.9467},\n",
       " 'd93afa85cf': {'neg': 0.137, 'neu': 0.747, 'pos': 0.116, 'compound': -0.1255},\n",
       " 'fab6b7d16c': {'neg': 0.0, 'neu': 0.479, 'pos': 0.521, 'compound': 0.8271},\n",
       " '2e7082d1c8': {'neg': 0.0, 'neu': 1.0, 'pos': 0.0, 'compound': 0.0},\n",
       " '684081e4e7': {'neg': 0.266, 'neu': 0.562, 'pos': 0.172, 'compound': -0.4926},\n",
       " 'c77717b103': {'neg': 0.0, 'neu': 0.472, 'pos': 0.528, 'compound': 0.9489},\n",
       " 'a9d499e123': {'neg': 0.0, 'neu': 1.0, 'pos': 0.0, 'compound': 0.0},\n",
       " 'ddf296dffa': {'neg': 0.375, 'neu': 0.625, 'pos': 0.0, 'compound': -0.68},\n",
       " 'c3924dc9e4': {'neg': 0.0, 'neu': 1.0, 'pos': 0.0, 'compound': 0.0},\n",
       " '3d9d4b0b55': {'neg': 0.0, 'neu': 0.8, 'pos': 0.2, 'compound': 0.6124},\n",
       " '3fcea4debc': {'neg': 0.147, 'neu': 0.853, 'pos': 0.0, 'compound': -0.3412},\n",
       " 'a3ae670885': {'neg': 0.222, 'neu': 0.778, 'pos': 0.0, 'compound': -0.5719},\n",
       " '15d5f3a41b': {'neg': 0.208, 'neu': 0.792, 'pos': 0.0, 'compound': -0.2732},\n",
       " '3c4a21b2cb': {'neg': 0.0, 'neu': 1.0, 'pos': 0.0, 'compound': 0.0},\n",
       " '11084dac09': {'neg': 0.0, 'neu': 1.0, 'pos': 0.0, 'compound': 0.0},\n",
       " 'd8ba2a99a9': {'neg': 0.0, 'neu': 0.235, 'pos': 0.765, 'compound': 0.7579},\n",
       " 'e77fd45003': {'neg': 0.0, 'neu': 1.0, 'pos': 0.0, 'compound': 0.0},\n",
       " 'b159318d76': {'neg': 0.175, 'neu': 0.825, 'pos': 0.0, 'compound': -0.5256},\n",
       " '6086b1f016': {'neg': 0.0, 'neu': 1.0, 'pos': 0.0, 'compound': 0.0},\n",
       " '703afdc44b': {'neg': 0.286, 'neu': 0.714, 'pos': 0.0, 'compound': -0.25},\n",
       " '90f3d2b572': {'neg': 0.0, 'neu': 0.602, 'pos': 0.398, 'compound': 0.5106},\n",
       " '52483f7da8': {'neg': 0.279, 'neu': 0.519, 'pos': 0.201, 'compound': -0.0516},\n",
       " 'a4b0888da6': {'neg': 0.0, 'neu': 0.0, 'pos': 1.0, 'compound': 0.6908},\n",
       " '2a9765b7f9': {'neg': 0.0, 'neu': 0.556, 'pos': 0.444, 'compound': 0.34},\n",
       " '90a2cdb657': {'neg': 0.0, 'neu': 0.665, 'pos': 0.335, 'compound': 0.891},\n",
       " '98f25bc596': {'neg': 0.0, 'neu': 1.0, 'pos': 0.0, 'compound': 0.0},\n",
       " '23e1f7dca4': {'neg': 0.0, 'neu': 1.0, 'pos': 0.0, 'compound': 0.0},\n",
       " '95e12b1cb1': {'neg': 0.0, 'neu': 0.596, 'pos': 0.404, 'compound': 0.7269},\n",
       " 'c34feef039': {'neg': 0.0, 'neu': 0.622, 'pos': 0.378, 'compound': 0.7424},\n",
       " 'fa2654e730': {'neg': 0.0, 'neu': 1.0, 'pos': 0.0, 'compound': 0.0},\n",
       " '187494c25b': {'neg': 0.0, 'neu': 1.0, 'pos': 0.0, 'compound': 0.0},\n",
       " '4213627c3c': {'neg': 0.0, 'neu': 1.0, 'pos': 0.0, 'compound': 0.0},\n",
       " 'a4e00d4d26': {'neg': 0.0, 'neu': 0.513, 'pos': 0.487, 'compound': 0.6908},\n",
       " '04e2e334de': {'neg': 0.0, 'neu': 0.897, 'pos': 0.103, 'compound': 0.3182},\n",
       " '0c4aa867d0': {'neg': 0.0, 'neu': 1.0, 'pos': 0.0, 'compound': 0.0},\n",
       " 'a6c61eac26': {'neg': 0.08, 'neu': 0.803, 'pos': 0.117, 'compound': 0.2481},\n",
       " '94bd67443c': {'neg': 0.0, 'neu': 0.895, 'pos': 0.105, 'compound': 0.4466},\n",
       " '35f393a245': {'neg': 0.0, 'neu': 0.607, 'pos': 0.393, 'compound': 0.6739},\n",
       " 'b2c9f115b1': {'neg': 0.423, 'neu': 0.577, 'pos': 0.0, 'compound': -0.296},\n",
       " '0a61cbf4b5': {'neg': 0.592, 'neu': 0.408, 'pos': 0.0, 'compound': -0.4404},\n",
       " 'ee9ec7a5a4': {'neg': 0.0, 'neu': 1.0, 'pos': 0.0, 'compound': 0.0},\n",
       " 'bbbc46889b': {'neg': 0.0, 'neu': 0.264, 'pos': 0.736, 'compound': 0.4199},\n",
       " '58d382e07a': {'neg': 0.169, 'neu': 0.615, 'pos': 0.215, 'compound': 0.1531},\n",
       " 'cb4d439ebc': {'neg': 0.0, 'neu': 1.0, 'pos': 0.0, 'compound': 0.0},\n",
       " '64ed512788': {'neg': 0.567, 'neu': 0.192, 'pos': 0.24, 'compound': -0.5267},\n",
       " '4cd390c007': {'neg': 0.375, 'neu': 0.625, 'pos': 0.0, 'compound': -0.7506},\n",
       " '3d2fcd78c8': {'neg': 0.185, 'neu': 0.308, 'pos': 0.507, 'compound': 0.7424},\n",
       " '0c0563423e': {'neg': 0.081, 'neu': 0.808, 'pos': 0.111, 'compound': 0.2263},\n",
       " 'cd0d522bb1': {'neg': 0.119, 'neu': 0.601, 'pos': 0.28, 'compound': 0.825},\n",
       " 'bffa3ddd61': {'neg': 0.093, 'neu': 0.581, 'pos': 0.326, 'compound': 0.6124},\n",
       " '9339ee8e0b': {'neg': 0.0, 'neu': 0.727, 'pos': 0.273, 'compound': 0.6968},\n",
       " 'a76f9cf8ce': {'neg': 0.0, 'neu': 0.566, 'pos': 0.434, 'compound': 0.7482},\n",
       " '4ce121e2ad': {'neg': 0.0, 'neu': 0.728, 'pos': 0.272, 'compound': 0.4574},\n",
       " 'a3de81e1ba': {'neg': 0.0, 'neu': 1.0, 'pos': 0.0, 'compound': 0.0},\n",
       " '55bacda5eb': {'neg': 0.223, 'neu': 0.777, 'pos': 0.0, 'compound': -0.5777},\n",
       " 'b63ed6da62': {'neg': 0.0, 'neu': 0.762, 'pos': 0.238, 'compound': 0.3612},\n",
       " '4c41a35a2a': {'neg': 0.0, 'neu': 0.684, 'pos': 0.316, 'compound': 0.5719},\n",
       " '61a8e11e8a': {'neg': 0.181, 'neu': 0.819, 'pos': 0.0, 'compound': -0.6844},\n",
       " '447dc22c81': {'neg': 0.478, 'neu': 0.324, 'pos': 0.198, 'compound': -0.5346},\n",
       " '3408db03a3': {'neg': 0.0, 'neu': 1.0, 'pos': 0.0, 'compound': 0.0},\n",
       " '92e1b6846e': {'neg': 0.0, 'neu': 0.682, 'pos': 0.318, 'compound': 0.6369},\n",
       " '2207d982bc': {'neg': 0.0, 'neu': 0.652, 'pos': 0.348, 'compound': 0.4939},\n",
       " '15e01e1749': {'neg': 0.321, 'neu': 0.377, 'pos': 0.302, 'compound': -0.0397},\n",
       " 'ebcdf07ac5': {'neg': 0.283, 'neu': 0.591, 'pos': 0.126, 'compound': -0.6103},\n",
       " 'fd9fb4f1ad': {'neg': 0.0, 'neu': 0.827, 'pos': 0.173, 'compound': 0.32},\n",
       " '6b018d3d2d': {'neg': 0.0, 'neu': 0.758, 'pos': 0.242, 'compound': 0.7506},\n",
       " '327a009a7d': {'neg': 0.0, 'neu': 1.0, 'pos': 0.0, 'compound': 0.0},\n",
       " 'd0d3c6f298': {'neg': 0.0, 'neu': 0.796, 'pos': 0.204, 'compound': 0.3182},\n",
       " '40649553ef': {'neg': 0.0, 'neu': 0.667, 'pos': 0.333, 'compound': 0.8398},\n",
       " '561b44a42f': {'neg': 0.265, 'neu': 0.556, 'pos': 0.179, 'compound': -0.34},\n",
       " 'a05aea73d7': {'neg': 0.0, 'neu': 0.649, 'pos': 0.351, 'compound': 0.4019},\n",
       " '9c4817f73b': {'neg': 0.136, 'neu': 0.864, 'pos': 0.0, 'compound': -0.3331},\n",
       " 'f0c1601d8b': {'neg': 0.0, 'neu': 1.0, 'pos': 0.0, 'compound': 0.0},\n",
       " 'd421fbd332': {'neg': 0.0, 'neu': 0.745, 'pos': 0.255, 'compound': 0.4738},\n",
       " '99b7ec4b0b': {'neg': 0.0, 'neu': 0.809, 'pos': 0.191, 'compound': 0.6369},\n",
       " 'a655fbb5eb': {'neg': 0.0, 'neu': 0.824, 'pos': 0.176, 'compound': 0.6696},\n",
       " '43e9a93104': {'neg': 0.0, 'neu': 0.714, 'pos': 0.286, 'compound': 0.4939},\n",
       " '401869d615': {'neg': 0.0, 'neu': 0.864, 'pos': 0.136, 'compound': 0.1472},\n",
       " '9843c4688e': {'neg': 0.0, 'neu': 1.0, 'pos': 0.0, 'compound': 0.0},\n",
       " '87fbf14655': {'neg': 0.34, 'neu': 0.66, 'pos': 0.0, 'compound': -0.4753},\n",
       " '22d1806fa0': {'neg': 0.314, 'neu': 0.686, 'pos': 0.0, 'compound': -0.8271},\n",
       " '9d2cffd953': {'neg': 0.245, 'neu': 0.755, 'pos': 0.0, 'compound': -0.501},\n",
       " 'f78761f7ec': {'neg': 0.146, 'neu': 0.68, 'pos': 0.175, 'compound': 0.2263},\n",
       " '66057d58c2': {'neg': 0.0, 'neu': 1.0, 'pos': 0.0, 'compound': 0.0},\n",
       " 'af90ad5989': {'neg': 0.227, 'neu': 0.689, 'pos': 0.084, 'compound': -0.5149},\n",
       " 'f0460d611d': {'neg': 0.645, 'neu': 0.355, 'pos': 0.0, 'compound': -0.2057},\n",
       " '6649f3558c': {'neg': 0.0, 'neu': 1.0, 'pos': 0.0, 'compound': 0.0},\n",
       " '24532ab83c': {'neg': 0.0, 'neu': 1.0, 'pos': 0.0, 'compound': 0.0},\n",
       " '8e1583cb08': {'neg': 0.0, 'neu': 1.0, 'pos': 0.0, 'compound': 0.0},\n",
       " '4ea61dbc7a': {'neg': 0.0, 'neu': 0.732, 'pos': 0.268, 'compound': 0.0258},\n",
       " '94f67cfa6d': {'neg': 0.134, 'neu': 0.61, 'pos': 0.255, 'compound': 0.4561},\n",
       " '29dfaf5e3b': {'neg': 0.158, 'neu': 0.661, 'pos': 0.181, 'compound': 0.1131},\n",
       " '974b35f889': {'neg': 0.0, 'neu': 0.526, 'pos': 0.474, 'compound': 0.8442},\n",
       " 'b495300bbf': {'neg': 0.0, 'neu': 0.755, 'pos': 0.245, 'compound': 0.5984},\n",
       " '504539e6ec': {'neg': 0.508, 'neu': 0.492, 'pos': 0.0, 'compound': -0.4767},\n",
       " '6903cb08f2': {'neg': 0.0, 'neu': 0.658, 'pos': 0.342, 'compound': 0.8711},\n",
       " '1996048e7a': {'neg': 0.0, 'neu': 0.6, 'pos': 0.4, 'compound': 0.8641},\n",
       " 'c6d0c7676c': {'neg': 0.0, 'neu': 1.0, 'pos': 0.0, 'compound': 0.0},\n",
       " 'ef74bab7f3': {'neg': 0.0, 'neu': 0.575, 'pos': 0.425, 'compound': 0.8534},\n",
       " 'f3cf8ec01b': {'neg': 0.0, 'neu': 0.597, 'pos': 0.403, 'compound': 0.4019},\n",
       " 'cb1b0d191d': {'neg': 0.151, 'neu': 0.548, 'pos': 0.301, 'compound': 0.4926},\n",
       " '3e67a75303': {'neg': 0.0, 'neu': 0.9, 'pos': 0.1, 'compound': 0.4404},\n",
       " '997a62f83f': {'neg': 0.208, 'neu': 0.614, 'pos': 0.178, 'compound': -0.126},\n",
       " '7e1757d4f0': {'neg': 0.098, 'neu': 0.902, 'pos': 0.0, 'compound': -0.3595},\n",
       " '254546cd2c': {'neg': 0.337, 'neu': 0.663, 'pos': 0.0, 'compound': -0.6808},\n",
       " '7e4ed52c4a': {'neg': 1.0, 'neu': 0.0, 'pos': 0.0, 'compound': -0.7351},\n",
       " '5069ae7a15': {'neg': 0.058, 'neu': 0.572, 'pos': 0.37, 'compound': 0.7915},\n",
       " '48cdcd5f28': {'neg': 0.278, 'neu': 0.444, 'pos': 0.278, 'compound': 0.0},\n",
       " '1b1b02af59': {'neg': 0.0, 'neu': 1.0, 'pos': 0.0, 'compound': 0.0},\n",
       " 'ae71041e21': {'neg': 0.0, 'neu': 0.556, 'pos': 0.444, 'compound': 0.4927},\n",
       " '11c10e3fc5': {'neg': 0.0, 'neu': 1.0, 'pos': 0.0, 'compound': 0.0},\n",
       " '19526ac03e': {'neg': 0.0, 'neu': 1.0, 'pos': 0.0, 'compound': 0.0},\n",
       " '960bbdc0c3': {'neg': 0.0, 'neu': 1.0, 'pos': 0.0, 'compound': 0.0},\n",
       " 'fd285fe74a': {'neg': 0.381, 'neu': 0.619, 'pos': 0.0, 'compound': -0.5719},\n",
       " 'a5a1c996c0': {'neg': 0.0, 'neu': 0.84, 'pos': 0.16, 'compound': 0.2714},\n",
       " '20ec7c7c32': {'neg': 0.0, 'neu': 0.384, 'pos': 0.616, 'compound': 0.8639},\n",
       " 'b948984e8d': {'neg': 0.0, 'neu': 1.0, 'pos': 0.0, 'compound': 0.0},\n",
       " '6824c44c21': {'neg': 0.0, 'neu': 1.0, 'pos': 0.0, 'compound': 0.0},\n",
       " '02d140362f': {'neg': 0.0, 'neu': 0.891, 'pos': 0.109, 'compound': 0.296},\n",
       " '5f93cc70ff': {'neg': 0.0, 'neu': 1.0, 'pos': 0.0, 'compound': 0.0},\n",
       " '4e6a5c0034': {'neg': 0.0, 'neu': 0.385, 'pos': 0.615, 'compound': 0.9042},\n",
       " 'e4e9b8713a': {'neg': 0.538, 'neu': 0.462, 'pos': 0.0, 'compound': -0.5423},\n",
       " '08975f62a8': {'neg': 0.0, 'neu': 0.417, 'pos': 0.583, 'compound': 0.4939},\n",
       " '4a1ce7dc3b': {'neg': 0.0, 'neu': 1.0, 'pos': 0.0, 'compound': 0.0},\n",
       " '328a0e76bd': {'neg': 0.213, 'neu': 0.619, 'pos': 0.168, 'compound': -0.3147},\n",
       " 'abbd0db2a5': {'neg': 0.0, 'neu': 1.0, 'pos': 0.0, 'compound': 0.0},\n",
       " '940eb93dd5': {'neg': 0.148, 'neu': 0.626, 'pos': 0.226, 'compound': 0.3346},\n",
       " 'c78bf59e67': {'neg': 0.0, 'neu': 0.527, 'pos': 0.473, 'compound': 0.8398},\n",
       " 'e73425ffdc': {'neg': 0.0, 'neu': 1.0, 'pos': 0.0, 'compound': 0.0},\n",
       " 'e56eeb4968': {'neg': 0.0, 'neu': 1.0, 'pos': 0.0, 'compound': 0.0},\n",
       " '7162d447ab': {'neg': 0.0, 'neu': 0.813, 'pos': 0.187, 'compound': 0.5696},\n",
       " 'f3d95b57b1': {'neg': 0.0, 'neu': 0.256, 'pos': 0.744, 'compound': 0.4404},\n",
       " '5e4eac2b2e': {'neg': 0.0, 'neu': 0.471, 'pos': 0.529, 'compound': 0.6696},\n",
       " 'bc02870b7d': {'neg': 0.124, 'neu': 0.876, 'pos': 0.0, 'compound': -0.34},\n",
       " '80e45e833f': {'neg': 0.255, 'neu': 0.634, 'pos': 0.112, 'compound': -0.5904},\n",
       " 'f29df52d91': {'neg': 0.0, 'neu': 0.683, 'pos': 0.317, 'compound': 0.4912},\n",
       " '079e4e3472': {'neg': 0.0, 'neu': 0.698, 'pos': 0.302, 'compound': 0.4648},\n",
       " '557e676fe4': {'neg': 0.314, 'neu': 0.523, 'pos': 0.163, 'compound': -0.3802},\n",
       " '8d09044937': {'neg': 0.0, 'neu': 1.0, 'pos': 0.0, 'compound': 0.0},\n",
       " '9d3a1e0269': {'neg': 0.229, 'neu': 0.509, 'pos': 0.262, 'compound': 0.101},\n",
       " '7ff2dbbe25': {'neg': 0.0, 'neu': 0.816, 'pos': 0.184, 'compound': 0.3818},\n",
       " '5a254fbb98': {'neg': 0.239, 'neu': 0.761, 'pos': 0.0, 'compound': -0.296},\n",
       " '417176c08e': {'neg': 0.0, 'neu': 0.475, 'pos': 0.525, 'compound': 0.8293},\n",
       " '2bf5c7dba7': {'neg': 0.1, 'neu': 0.641, 'pos': 0.259, 'compound': 0.6671},\n",
       " '8407ac30b0': {'neg': 0.482, 'neu': 0.518, 'pos': 0.0, 'compound': -0.68},\n",
       " '6ed347b1a5': {'neg': 0.0, 'neu': 1.0, 'pos': 0.0, 'compound': 0.0},\n",
       " '97625460cf': {'neg': 0.0, 'neu': 0.312, 'pos': 0.688, 'compound': 0.296},\n",
       " '32e4ffe225': {'neg': 0.0, 'neu': 1.0, 'pos': 0.0, 'compound': 0.0},\n",
       " '24ee55f264': {'neg': 0.399, 'neu': 0.601, 'pos': 0.0, 'compound': -0.906},\n",
       " '82b75647fd': {'neg': 0.0, 'neu': 1.0, 'pos': 0.0, 'compound': 0.0},\n",
       " 'a0a306868a': {'neg': 0.247, 'neu': 0.753, 'pos': 0.0, 'compound': -0.3182},\n",
       " '9b11b686ec': {'neg': 0.0, 'neu': 0.127, 'pos': 0.873, 'compound': 0.784},\n",
       " '7e7bc11e45': {'neg': 0.0, 'neu': 0.659, 'pos': 0.341, 'compound': 0.8309},\n",
       " '28dbada620': {'neg': 0.0, 'neu': 1.0, 'pos': 0.0, 'compound': 0.0},\n",
       " '3e880ec28d': {'neg': 0.0, 'neu': 1.0, 'pos': 0.0, 'compound': 0.0},\n",
       " '38271074d1': {'neg': 0.341, 'neu': 0.659, 'pos': 0.0, 'compound': -0.6351},\n",
       " 'ef12a3d183': {'neg': 0.0, 'neu': 1.0, 'pos': 0.0, 'compound': 0.0},\n",
       " 'f0db54f5bf': {'neg': 0.239, 'neu': 0.761, 'pos': 0.0, 'compound': -0.296},\n",
       " 'e651d415c6': {'neg': 0.0, 'neu': 0.68, 'pos': 0.32, 'compound': 0.5106},\n",
       " '931a866d3f': {'neg': 0.0, 'neu': 0.897, 'pos': 0.103, 'compound': 0.3685},\n",
       " '7a718b23ef': {'neg': 0.0, 'neu': 1.0, 'pos': 0.0, 'compound': 0.0},\n",
       " 'a6fccce9db': {'neg': 0.223, 'neu': 0.777, 'pos': 0.0, 'compound': -0.3182},\n",
       " 'c017d0c221': {'neg': 0.346, 'neu': 0.654, 'pos': 0.0, 'compound': -0.5719},\n",
       " '287755c5dd': {'neg': 0.0, 'neu': 1.0, 'pos': 0.0, 'compound': 0.0},\n",
       " '58c435d2cf': {'neg': 0.0, 'neu': 1.0, 'pos': 0.0, 'compound': 0.0},\n",
       " 'e6ee6826df': {'neg': 0.261, 'neu': 0.739, 'pos': 0.0, 'compound': -0.6486},\n",
       " '01b2476dd7': {'neg': 0.0, 'neu': 1.0, 'pos': 0.0, 'compound': 0.0},\n",
       " 'e02cf4af4c': {'neg': 0.0, 'neu': 0.654, 'pos': 0.346, 'compound': 0.5719},\n",
       " '2dc0dc0d5d': {'neg': 0.0, 'neu': 1.0, 'pos': 0.0, 'compound': 0.0},\n",
       " '1b13ed8b4b': {'neg': 0.0, 'neu': 0.798, 'pos': 0.202, 'compound': 0.5106},\n",
       " 'b6b35af246': {'neg': 0.0, 'neu': 0.58, 'pos': 0.42, 'compound': 0.4404},\n",
       " '375e74d063': {'neg': 0.166, 'neu': 0.414, 'pos': 0.42, 'compound': 0.5687},\n",
       " '4700be3234': {'neg': 0.0, 'neu': 1.0, 'pos': 0.0, 'compound': 0.0},\n",
       " 'e5c6a6bb5a': {'neg': 0.0, 'neu': 0.562, 'pos': 0.438, 'compound': 0.8981},\n",
       " '4f84bea1cc': {'neg': 0.12, 'neu': 0.6, 'pos': 0.281, 'compound': 0.2833},\n",
       " '4c73ad2888': {'neg': 0.0, 'neu': 1.0, 'pos': 0.0, 'compound': 0.0},\n",
       " '2dcd8766a8': {'neg': 0.0, 'neu': 1.0, 'pos': 0.0, 'compound': 0.0},\n",
       " '234093bef1': {'neg': 0.0, 'neu': 1.0, 'pos': 0.0, 'compound': 0.0},\n",
       " 'ca832cad51': {'neg': 0.0, 'neu': 0.333, 'pos': 0.667, 'compound': 0.4588},\n",
       " 'a8734230b6': {'neg': 0.0, 'neu': 1.0, 'pos': 0.0, 'compound': 0.0},\n",
       " '0b5c2a7d7c': {'neg': 0.115, 'neu': 0.885, 'pos': 0.0, 'compound': -0.3252},\n",
       " 'e70d294d95': {'neg': 0.0, 'neu': 1.0, 'pos': 0.0, 'compound': 0.0},\n",
       " 'f84b89a828': {'neg': 0.0, 'neu': 0.444, 'pos': 0.556, 'compound': 0.3612},\n",
       " 'ee37bea884': {'neg': 0.205, 'neu': 0.651, 'pos': 0.144, 'compound': -0.2023},\n",
       " '242d92151a': {'neg': 0.346, 'neu': 0.654, 'pos': 0.0, 'compound': -0.5719},\n",
       " 'f3a77c2b5e': {'neg': 0.0, 'neu': 1.0, 'pos': 0.0, 'compound': 0.0},\n",
       " '1d6411e9dd': {'neg': 0.231, 'neu': 0.769, 'pos': 0.0, 'compound': -0.743},\n",
       " '151c10cc39': {'neg': 0.103, 'neu': 0.499, 'pos': 0.398, 'compound': 0.744},\n",
       " '7b1927e748': {'neg': 0.0, 'neu': 0.709, 'pos': 0.291, 'compound': 0.5719},\n",
       " '9a6f4d05d5': {'neg': 0.0, 'neu': 0.706, 'pos': 0.294, 'compound': 0.8176},\n",
       " '0cb4504f2c': {'neg': 0.0, 'neu': 0.783, 'pos': 0.217, 'compound': 0.5972},\n",
       " 'ae21c1ac38': {'neg': 0.0, 'neu': 1.0, 'pos': 0.0, 'compound': 0.0},\n",
       " '8f3e73cf09': {'neg': 0.062, 'neu': 0.622, 'pos': 0.316, 'compound': 0.7096},\n",
       " 'c7489a23fa': {'neg': 0.0, 'neu': 0.65, 'pos': 0.35, 'compound': 0.8681},\n",
       " '148ac38bea': {'neg': 0.0, 'neu': 0.526, 'pos': 0.474, 'compound': 0.4019},\n",
       " '641555ac70': {'neg': 0.0, 'neu': 1.0, 'pos': 0.0, 'compound': 0.0},\n",
       " '4bda359cbb': {'neg': 0.0, 'neu': 1.0, 'pos': 0.0, 'compound': 0.0},\n",
       " 'ed084a1fa7': {'neg': 0.0, 'neu': 0.505, 'pos': 0.495, 'compound': 0.8955},\n",
       " '1af124bc1c': {'neg': 0.0, 'neu': 1.0, 'pos': 0.0, 'compound': 0.0},\n",
       " 'e98226e842': {'neg': 0.0, 'neu': 0.0, 'pos': 1.0, 'compound': 0.3612},\n",
       " '85ec413e54': {'neg': 0.0, 'neu': 1.0, 'pos': 0.0, 'compound': 0.0},\n",
       " '7df7221145': {'neg': 0.0, 'neu': 1.0, 'pos': 0.0, 'compound': 0.0},\n",
       " '0ab8f9c4bc': {'neg': 0.0, 'neu': 0.821, 'pos': 0.179, 'compound': 0.6399},\n",
       " '06cad97de6': {'neg': 0.0, 'neu': 1.0, 'pos': 0.0, 'compound': 0.0},\n",
       " '37f6bd5ac5': {'neg': 0.0, 'neu': 1.0, 'pos': 0.0, 'compound': 0.0},\n",
       " '9bef0d7135': {'neg': 0.0, 'neu': 0.77, 'pos': 0.23, 'compound': 0.5093},\n",
       " '7436ec1a2c': {'neg': 0.0, 'neu': 0.694, 'pos': 0.306, 'compound': 0.296},\n",
       " 'cf10e9309a': {'neg': 0.0, 'neu': 0.88, 'pos': 0.12, 'compound': 0.3818},\n",
       " 'ce69e99e71': {'neg': 0.0, 'neu': 0.777, 'pos': 0.223, 'compound': 0.3182},\n",
       " '6402e14398': {'neg': 0.164, 'neu': 0.836, 'pos': 0.0, 'compound': -0.3296},\n",
       " '914c40995f': {'neg': 0.398, 'neu': 0.602, 'pos': 0.0, 'compound': -0.5106},\n",
       " '258f37341e': {'neg': 0.0, 'neu': 0.732, 'pos': 0.268, 'compound': 0.2942},\n",
       " '77ba0fee75': {'neg': 0.0, 'neu': 0.902, 'pos': 0.098, 'compound': 0.0772},\n",
       " '96a4ce0d47': {'neg': 0.158, 'neu': 0.717, 'pos': 0.124, 'compound': -0.1796},\n",
       " '5bcc50c275': {'neg': 0.0, 'neu': 1.0, 'pos': 0.0, 'compound': 0.0},\n",
       " 'c5645758be': {'neg': 0.13, 'neu': 0.68, 'pos': 0.19, 'compound': 0.4287},\n",
       " '7e3c091fc2': {'neg': 0.0, 'neu': 0.885, 'pos': 0.115, 'compound': 0.0772},\n",
       " '869bb56451': {'neg': 0.0, 'neu': 1.0, 'pos': 0.0, 'compound': 0.0},\n",
       " '09ad12cc5c': {'neg': 0.0, 'neu': 0.863, 'pos': 0.137, 'compound': 0.4019},\n",
       " '251aa82551': {'neg': 0.0, 'neu': 0.748, 'pos': 0.252, 'compound': 0.6166},\n",
       " '8e0a0ffbe1': {'neg': 0.0, 'neu': 1.0, 'pos': 0.0, 'compound': 0.0},\n",
       " '799f65f193': {'neg': 0.259, 'neu': 0.556, 'pos': 0.185, 'compound': -0.4588},\n",
       " 'd06582e26d': {'neg': 0.091, 'neu': 0.653, 'pos': 0.256, 'compound': 0.6749},\n",
       " 'dbe1d16b29': {'neg': 0.0, 'neu': 1.0, 'pos': 0.0, 'compound': 0.0},\n",
       " '7809dd704a': {'neg': 0.217, 'neu': 0.669, 'pos': 0.114, 'compound': -0.3818},\n",
       " '97334eb7c0': {'neg': 0.0, 'neu': 0.608, 'pos': 0.392, 'compound': 0.891},\n",
       " 'e1546f901a': {'neg': 0.0, 'neu': 0.526, 'pos': 0.474, 'compound': 0.743},\n",
       " '2ece7f3810': {'neg': 0.0, 'neu': 0.271, 'pos': 0.729, 'compound': 0.6588},\n",
       " 'ba309a37d1': {'neg': 0.193, 'neu': 0.807, 'pos': 0.0, 'compound': -0.4767},\n",
       " '84ca20505a': {'neg': 0.0, 'neu': 1.0, 'pos': 0.0, 'compound': 0.0},\n",
       " 'de8c4c410d': {'neg': 0.69, 'neu': 0.0, 'pos': 0.31, 'compound': -0.5707},\n",
       " 'e33d5ceea2': {'neg': 0.0, 'neu': 1.0, 'pos': 0.0, 'compound': 0.0},\n",
       " '394881b7d0': {'neg': 0.0, 'neu': 1.0, 'pos': 0.0, 'compound': 0.0},\n",
       " '52d8be9124': {'neg': 0.0, 'neu': 0.637, 'pos': 0.363, 'compound': 0.6767},\n",
       " 'dabe649ee3': {'neg': 0.0, 'neu': 0.616, 'pos': 0.384, 'compound': 0.9049},\n",
       " '2a5bb8d827': {'neg': 0.0, 'neu': 0.68, 'pos': 0.32, 'compound': 0.7276},\n",
       " 'dbbbbe6059': {'neg': 0.0, 'neu': 0.5, 'pos': 0.5, 'compound': 0.9582},\n",
       " '894e188d01': {'neg': 0.0, 'neu': 0.334, 'pos': 0.666, 'compound': 0.6114},\n",
       " 'a91ca2ffae': {'neg': 0.0, 'neu': 0.502, 'pos': 0.498, 'compound': 0.9313},\n",
       " '89d5b3f0b5': {'neg': 0.0, 'neu': 0.0, 'pos': 1.0, 'compound': 0.4404},\n",
       " 'fe0abe1754': {'neg': 0.0, 'neu': 1.0, 'pos': 0.0, 'compound': 0.0},\n",
       " '1b6380b1b3': {'neg': 0.114, 'neu': 0.568, 'pos': 0.318, 'compound': 0.5562},\n",
       " '02c004bc2d': {'neg': 0.623, 'neu': 0.377, 'pos': 0.0, 'compound': -0.5106},\n",
       " 'b4d5f1e13e': {'neg': 0.205, 'neu': 0.629, 'pos': 0.166, 'compound': -0.296},\n",
       " '80481307d5': {'neg': 0.0, 'neu': 0.47, 'pos': 0.53, 'compound': 0.836},\n",
       " '05a0e60f99': {'neg': 0.245, 'neu': 0.755, 'pos': 0.0, 'compound': -0.0772},\n",
       " 'e3cc598980': {'neg': 0.0, 'neu': 0.517, 'pos': 0.483, 'compound': 0.92},\n",
       " 'a2cf6cc397': {'neg': 0.0, 'neu': 0.834, 'pos': 0.166, 'compound': 0.6114},\n",
       " '53e78f3f89': {'neg': 0.0, 'neu': 1.0, 'pos': 0.0, 'compound': 0.0},\n",
       " 'ba83f744d8': {'neg': 0.135, 'neu': 0.765, 'pos': 0.101, 'compound': -0.0258},\n",
       " '2dd0cddb70': {'neg': 0.0, 'neu': 0.715, 'pos': 0.285, 'compound': 0.1511},\n",
       " 'e3a1b65ef3': {'neg': 0.241, 'neu': 0.759, 'pos': 0.0, 'compound': -0.4215},\n",
       " '7ae37ef593': {'neg': 0.0, 'neu': 1.0, 'pos': 0.0, 'compound': 0.0},\n",
       " '73fa7068a2': {'neg': 0.08, 'neu': 0.845, 'pos': 0.075, 'compound': -0.0258},\n",
       " 'f5b15be6f6': {'neg': 0.0, 'neu': 0.806, 'pos': 0.194, 'compound': 0.4753},\n",
       " '68bda81bb9': {'neg': 0.0, 'neu': 1.0, 'pos': 0.0, 'compound': 0.0},\n",
       " '59e77db781': {'neg': 0.0, 'neu': 0.548, 'pos': 0.452, 'compound': 0.8772},\n",
       " 'e3731b6ce8': {'neg': 0.239, 'neu': 0.761, 'pos': 0.0, 'compound': -0.296},\n",
       " 'b09362ee8e': {'neg': 0.0, 'neu': 1.0, 'pos': 0.0, 'compound': 0.0},\n",
       " 'c4f9792d55': {'neg': 0.0, 'neu': 1.0, 'pos': 0.0, 'compound': 0.0},\n",
       " '20d4300a14': {'neg': 0.0, 'neu': 0.816, 'pos': 0.184, 'compound': 0.2023},\n",
       " '7b69f49c42': {'neg': 0.0, 'neu': 0.722, 'pos': 0.278, 'compound': 0.4019},\n",
       " '519a5d3be7': {'neg': 0.173, 'neu': 0.615, 'pos': 0.212, 'compound': 0.1779},\n",
       " 'aa97eca66f': {'neg': 0.0, 'neu': 1.0, 'pos': 0.0, 'compound': 0.0},\n",
       " 'd3230b7cfd': {'neg': 0.0, 'neu': 0.792, 'pos': 0.208, 'compound': 0.7615},\n",
       " '294df18b9f': {'neg': 0.0, 'neu': 0.53, 'pos': 0.47, 'compound': 0.7351},\n",
       " 'e5e2d9d1f3': {'neg': 0.0, 'neu': 0.75, 'pos': 0.25, 'compound': 0.4588},\n",
       " 'b7a9ba95d0': {'neg': 0.268, 'neu': 0.732, 'pos': 0.0, 'compound': -0.296},\n",
       " '6943d0f480': {'neg': 0.105, 'neu': 0.745, 'pos': 0.151, 'compound': -0.0028},\n",
       " '9e047ed52a': {'neg': 0.426, 'neu': 0.37, 'pos': 0.204, 'compound': -0.5267},\n",
       " 'a54d3c2825': {'neg': 0.0, 'neu': 0.695, 'pos': 0.305, 'compound': 0.2942},\n",
       " '5b578d0b4c': {'neg': 0.112, 'neu': 0.726, 'pos': 0.162, 'compound': 0.2247},\n",
       " 'c4ab28566e': {'neg': 0.5, 'neu': 0.5, 'pos': 0.0, 'compound': -0.25},\n",
       " '162a2510d2': {'neg': 0.0, 'neu': 1.0, 'pos': 0.0, 'compound': 0.0},\n",
       " 'c25871ec9e': {'neg': 0.203, 'neu': 0.682, 'pos': 0.115, 'compound': -0.2932},\n",
       " 'fdb77c3752': {'neg': 0.0, 'neu': 0.0, 'pos': 0.0, 'compound': 0.0},\n",
       " 'ddd4dd7be4': {'neg': 0.0, 'neu': 0.815, 'pos': 0.185, 'compound': 0.6124},\n",
       " 'd2af698d65': {'neg': 0.222, 'neu': 0.778, 'pos': 0.0, 'compound': -0.4588},\n",
       " '1594011c6d': {'neg': 0.0, 'neu': 0.787, 'pos': 0.213, 'compound': 0.4019},\n",
       " 'bb61a7094b': {'neg': 0.411, 'neu': 0.589, 'pos': 0.0, 'compound': -0.4199},\n",
       " '454ea2153b': {'neg': 0.0, 'neu': 1.0, 'pos': 0.0, 'compound': 0.0},\n",
       " 'b5dd587dd2': {'neg': 0.374, 'neu': 0.626, 'pos': 0.0, 'compound': -0.4898},\n",
       " 'e5160216a5': {'neg': 0.538, 'neu': 0.462, 'pos': 0.0, 'compound': -0.8519},\n",
       " 'ea3320d696': {'neg': 0.147, 'neu': 0.578, 'pos': 0.274, 'compound': 0.6588},\n",
       " '5680a0b488': {'neg': 0.236, 'neu': 0.764, 'pos': 0.0, 'compound': -0.4753},\n",
       " 'ed6c2e4824': {'neg': 0.132, 'neu': 0.687, 'pos': 0.181, 'compound': 0.5337},\n",
       " 'a8f2acd515': {'neg': 0.217, 'neu': 0.783, 'pos': 0.0, 'compound': -0.3612},\n",
       " 'e9f7f78cfa': {'neg': 0.0, 'neu': 0.865, 'pos': 0.135, 'compound': 0.6369},\n",
       " '4c71b5fb91': {'neg': 0.0, 'neu': 0.802, 'pos': 0.198, 'compound': 0.4939},\n",
       " 'be8544ffb1': {'neg': 0.0, 'neu': 1.0, 'pos': 0.0, 'compound': 0.0},\n",
       " '0404648e1c': {'neg': 0.0, 'neu': 1.0, 'pos': 0.0, 'compound': 0.0},\n",
       " 'e136c0f2af': {'neg': 0.0, 'neu': 0.568, 'pos': 0.432, 'compound': 0.5859},\n",
       " '032e865dc7': {'neg': 0.0, 'neu': 1.0, 'pos': 0.0, 'compound': 0.0},\n",
       " 'd723ea3299': {'neg': 0.0, 'neu': 0.485, 'pos': 0.515, 'compound': 0.6486},\n",
       " '3d208b8e59': {'neg': 0.0, 'neu': 0.916, 'pos': 0.084, 'compound': 0.2561},\n",
       " 'f1f5e8edfa': {'neg': 0.348, 'neu': 0.652, 'pos': 0.0, 'compound': -0.1531},\n",
       " '51f4502988': {'neg': 0.118, 'neu': 0.75, 'pos': 0.132, 'compound': -0.1531},\n",
       " '728c29215f': {'neg': 0.0, 'neu': 1.0, 'pos': 0.0, 'compound': 0.0},\n",
       " 'c9091836ce': {'neg': 0.0, 'neu': 0.759, 'pos': 0.241, 'compound': 0.5411},\n",
       " '9668542b2a': {'neg': 0.48, 'neu': 0.52, 'pos': 0.0, 'compound': -0.94},\n",
       " 'cd5d081760': {'neg': 0.181, 'neu': 0.625, 'pos': 0.194, 'compound': 0.298},\n",
       " '061eb4c0de': {'neg': 0.162, 'neu': 0.282, 'pos': 0.556, 'compound': 0.6808},\n",
       " 'c20cb786c4': {'neg': 0.218, 'neu': 0.782, 'pos': 0.0, 'compound': -0.6494},\n",
       " '7733e8541a': {'neg': 0.161, 'neu': 0.737, 'pos': 0.101, 'compound': -0.3182},\n",
       " '58eda20efc': {'neg': 0.302, 'neu': 0.698, 'pos': 0.0, 'compound': -0.3802},\n",
       " '2f5c77dfb3': {'neg': 0.0, 'neu': 0.393, 'pos': 0.607, 'compound': 0.4753},\n",
       " '4646623c1d': {'neg': 0.0, 'neu': 0.737, 'pos': 0.263, 'compound': 0.3612},\n",
       " 'a97db072ed': {'neg': 0.0, 'neu': 0.657, 'pos': 0.343, 'compound': 0.6956},\n",
       " 'f3117413cc': {'neg': 0.0, 'neu': 0.417, 'pos': 0.583, 'compound': 0.4199},\n",
       " '59cb0c3a14': {'neg': 0.3, 'neu': 0.7, 'pos': 0.0, 'compound': -0.4588},\n",
       " '322b61740c': {'neg': 0.208, 'neu': 0.604, 'pos': 0.188, 'compound': -0.0772},\n",
       " '7179c215a7': {'neg': 0.0, 'neu': 0.385, 'pos': 0.615, 'compound': 0.4926},\n",
       " '1f581d48bc': {'neg': 0.178, 'neu': 0.822, 'pos': 0.0, 'compound': -0.0772},\n",
       " 'c42982a22d': {'neg': 0.0, 'neu': 0.745, 'pos': 0.255, 'compound': 0.34},\n",
       " '9191e574bb': {'neg': 0.111, 'neu': 0.889, 'pos': 0.0, 'compound': -0.25},\n",
       " 'f4e428e4b3': {'neg': 0.0, 'neu': 1.0, 'pos': 0.0, 'compound': 0.0},\n",
       " '1ee0b44db0': {'neg': 0.099, 'neu': 0.901, 'pos': 0.0, 'compound': -0.296},\n",
       " '4095d52d2d': {'neg': 0.361, 'neu': 0.509, 'pos': 0.13, 'compound': -0.6124},\n",
       " '4491189459': {'neg': 0.0, 'neu': 1.0, 'pos': 0.0, 'compound': 0.0},\n",
       " 'e8be898842': {'neg': 0.324, 'neu': 0.676, 'pos': 0.0, 'compound': -0.34},\n",
       " '9b388b2cd9': {'neg': 0.22, 'neu': 0.78, 'pos': 0.0, 'compound': -0.6555},\n",
       " '3d1238a2f0': {'neg': 0.0, 'neu': 0.563, 'pos': 0.437, 'compound': 0.4767},\n",
       " '98ff5a440e': {'neg': 0.0, 'neu': 1.0, 'pos': 0.0, 'compound': 0.0},\n",
       " 'b94aaf845e': {'neg': 0.0, 'neu': 0.685, 'pos': 0.315, 'compound': 0.3182},\n",
       " '95d0ad2e17': {'neg': 0.0, 'neu': 1.0, 'pos': 0.0, 'compound': 0.0},\n",
       " 'b8e58e1a21': {'neg': 0.43, 'neu': 0.43, 'pos': 0.14, 'compound': -0.5719},\n",
       " '39923bb286': {'neg': 0.0, 'neu': 0.127, 'pos': 0.873, 'compound': 0.7845},\n",
       " 'b751f39570': {'neg': 0.0, 'neu': 0.752, 'pos': 0.248, 'compound': 0.6476},\n",
       " 'c1b915d1d5': {'neg': 0.0, 'neu': 0.357, 'pos': 0.643, 'compound': 0.802},\n",
       " 'f38f53fbde': {'neg': 0.093, 'neu': 0.732, 'pos': 0.175, 'compound': 0.5374},\n",
       " 'c2a17084e9': {'neg': 0.176, 'neu': 0.56, 'pos': 0.264, 'compound': 0.2732},\n",
       " '3848e03ac5': {'neg': 0.0, 'neu': 1.0, 'pos': 0.0, 'compound': 0.0},\n",
       " '356ad29589': {'neg': 0.32, 'neu': 0.68, 'pos': 0.0, 'compound': -0.5106},\n",
       " '3696d1db81': {'neg': 0.0, 'neu': 1.0, 'pos': 0.0, 'compound': 0.0},\n",
       " '81e6c0ac2d': {'neg': 0.5, 'neu': 0.5, 'pos': 0.0, 'compound': -0.6124},\n",
       " '12cfc10225': {'neg': 0.0, 'neu': 1.0, 'pos': 0.0, 'compound': 0.0},\n",
       " '9f51c335d0': {'neg': 0.128, 'neu': 0.872, 'pos': 0.0, 'compound': -0.296},\n",
       " '81e29d1a0b': {'neg': 0.286, 'neu': 0.714, 'pos': 0.0, 'compound': -0.1531},\n",
       " '3773846bc3': {'neg': 0.0, 'neu': 0.71, 'pos': 0.29, 'compound': 0.6696},\n",
       " '6f3818a39e': {'neg': 0.0, 'neu': 0.746, 'pos': 0.254, 'compound': 0.4754},\n",
       " '2e6ee964a4': {'neg': 0.0, 'neu': 0.549, 'pos': 0.451, 'compound': 0.5081},\n",
       " '759b899f29': {'neg': 0.085, 'neu': 0.569, 'pos': 0.345, 'compound': 0.5647},\n",
       " '12da1098a2': {'neg': 0.101, 'neu': 0.801, 'pos': 0.097, 'compound': -0.0274},\n",
       " '38e44e0f32': {'neg': 0.0, 'neu': 0.632, 'pos': 0.368, 'compound': 0.6209},\n",
       " 'b534d768ca': {'neg': 0.0, 'neu': 0.297, 'pos': 0.703, 'compound': 0.7959},\n",
       " 'c422db675c': {'neg': 0.0, 'neu': 1.0, 'pos': 0.0, 'compound': 0.0},\n",
       " 'a34bf825fc': {'neg': 0.0, 'neu': 1.0, 'pos': 0.0, 'compound': 0.0},\n",
       " 'dbc45af041': {'neg': 0.0, 'neu': 1.0, 'pos': 0.0, 'compound': 0.0},\n",
       " '018c0cf1f9': {'neg': 0.0, 'neu': 1.0, 'pos': 0.0, 'compound': 0.0},\n",
       " '7e820f005a': {'neg': 0.0, 'neu': 0.664, 'pos': 0.336, 'compound': 0.7959},\n",
       " 'e839d6a472': {'neg': 0.0, 'neu': 1.0, 'pos': 0.0, 'compound': 0.0},\n",
       " 'a210eda5c9': {'neg': 0.166, 'neu': 0.699, 'pos': 0.135, 'compound': 0.2244},\n",
       " '47990d2312': {'neg': 0.0, 'neu': 1.0, 'pos': 0.0, 'compound': 0.0},\n",
       " '340600d483': {'neg': 0.0, 'neu': 1.0, 'pos': 0.0, 'compound': 0.0},\n",
       " '5fcf7bd80c': {'neg': 0.0, 'neu': 1.0, 'pos': 0.0, 'compound': 0.0},\n",
       " '9e964bdfda': {'neg': 0.0, 'neu': 1.0, 'pos': 0.0, 'compound': 0.0},\n",
       " '3d635198c2': {'neg': 0.115, 'neu': 0.885, 'pos': 0.0, 'compound': -0.296},\n",
       " 'bba9d463f4': {'neg': 0.262, 'neu': 0.662, 'pos': 0.076, 'compound': -0.7111},\n",
       " '54a62c239a': {'neg': 0.649, 'neu': 0.351, 'pos': 0.0, 'compound': -0.5719},\n",
       " 'ebc8565a98': {'neg': 0.0, 'neu': 1.0, 'pos': 0.0, 'compound': 0.0},\n",
       " 'cf888f0df3': {'neg': 0.0, 'neu': 1.0, 'pos': 0.0, 'compound': 0.0},\n",
       " '0456aab9bb': {'neg': 0.0, 'neu': 1.0, 'pos': 0.0, 'compound': 0.0},\n",
       " '85b2dbf969': {'neg': 0.0, 'neu': 0.859, 'pos': 0.141, 'compound': 0.3182},\n",
       " '30dd327860': {'neg': 0.0, 'neu': 1.0, 'pos': 0.0, 'compound': 0.0},\n",
       " '4c8d61cfd0': {'neg': 0.281, 'neu': 0.496, 'pos': 0.223, 'compound': -0.1779},\n",
       " 'ef200df027': {'neg': 0.158, 'neu': 0.586, 'pos': 0.256, 'compound': 0.6124},\n",
       " 'bd0fa6cebd': {'neg': 0.112, 'neu': 0.761, 'pos': 0.127, 'compound': 0.0772},\n",
       " '2c80b2043e': {'neg': 0.0, 'neu': 0.408, 'pos': 0.592, 'compound': 0.4404},\n",
       " '1ecbc820d1': {'neg': 0.077, 'neu': 0.526, 'pos': 0.397, 'compound': 0.7717},\n",
       " '02e569bee0': {'neg': 0.0, 'neu': 0.822, 'pos': 0.178, 'compound': 0.0772},\n",
       " 'f6f3b8b7a4': {'neg': 0.0, 'neu': 0.435, 'pos': 0.565, 'compound': 0.8316},\n",
       " '41f4eb92b9': {'neg': 0.0, 'neu': 0.863, 'pos': 0.137, 'compound': 0.4019},\n",
       " '7a341d71fe': {'neg': 0.0, 'neu': 0.741, 'pos': 0.259, 'compound': 0.4215},\n",
       " '0ddd346323': {'neg': 0.0, 'neu': 0.716, 'pos': 0.284, 'compound': 0.8198},\n",
       " '38a6cb940a': {'neg': 0.0, 'neu': 0.574, 'pos': 0.426, 'compound': 0.6369},\n",
       " 'a0f446e1bf': {'neg': 0.0, 'neu': 0.655, 'pos': 0.345, 'compound': 0.5707},\n",
       " 'db0db7f325': {'neg': 0.0, 'neu': 1.0, 'pos': 0.0, 'compound': 0.0},\n",
       " '123fa2ef14': {'neg': 0.0, 'neu': 0.549, 'pos': 0.451, 'compound': 0.9323},\n",
       " '8ebbcfcfd1': {'neg': 0.0, 'neu': 0.672, 'pos': 0.328, 'compound': 0.4404},\n",
       " '47c5298bb9': {'neg': 0.2, 'neu': 0.8, 'pos': 0.0, 'compound': -0.3597},\n",
       " '38c25280f1': {'neg': 0.0, 'neu': 0.565, 'pos': 0.435, 'compound': 0.6588},\n",
       " 'f83634c7f2': {'neg': 0.0, 'neu': 0.667, 'pos': 0.333, 'compound': 0.5411},\n",
       " '301f7824f5': {'neg': 0.0, 'neu': 0.615, 'pos': 0.385, 'compound': 0.7845},\n",
       " '715e081e22': {'neg': 0.0, 'neu': 0.465, 'pos': 0.535, 'compound': 0.3182},\n",
       " '5459ddc56e': {'neg': 0.0, 'neu': 0.834, 'pos': 0.166, 'compound': 0.68},\n",
       " 'e8f99c2de0': {'neg': 0.0, 'neu': 0.57, 'pos': 0.43, 'compound': 0.5826},\n",
       " 'b53d8f2b09': {'neg': 0.357, 'neu': 0.465, 'pos': 0.178, 'compound': -0.3182},\n",
       " '71dddc0dff': {'neg': 0.251, 'neu': 0.749, 'pos': 0.0, 'compound': -0.6908},\n",
       " 'ca57a8830c': {'neg': 0.215, 'neu': 0.785, 'pos': 0.0, 'compound': -0.5255},\n",
       " '0f0a1d8c75': {'neg': 0.0, 'neu': 0.598, 'pos': 0.402, 'compound': 0.8553},\n",
       " '187745f502': {'neg': 0.379, 'neu': 0.621, 'pos': 0.0, 'compound': -0.6449},\n",
       " 'a78ef3e0d0': {'neg': 0.0, 'neu': 1.0, 'pos': 0.0, 'compound': 0.0},\n",
       " '5010f92b03': {'neg': 0.0, 'neu': 0.764, 'pos': 0.236, 'compound': 0.4173},\n",
       " '1a88179ebb': {'neg': 0.0, 'neu': 0.518, 'pos': 0.482, 'compound': 0.9201},\n",
       " '625feab260': {'neg': 0.0, 'neu': 1.0, 'pos': 0.0, 'compound': 0.0},\n",
       " '45b0430eb9': {'neg': 0.0, 'neu': 0.704, 'pos': 0.296, 'compound': 0.6369},\n",
       " '86462cc997': {'neg': 0.18, 'neu': 0.82, 'pos': 0.0, 'compound': -0.296},\n",
       " 'b499204c32': {'neg': 0.0, 'neu': 0.507, 'pos': 0.493, 'compound': 0.913},\n",
       " '60d0bb5840': {'neg': 0.202, 'neu': 0.465, 'pos': 0.333, 'compound': 0.1759},\n",
       " 'a52203dd88': {'neg': 0.0, 'neu': 0.7, 'pos': 0.3, 'compound': 0.8209},\n",
       " 'e8770f1c78': {'neg': 0.264, 'neu': 0.604, 'pos': 0.132, 'compound': -0.7003},\n",
       " '4016e4cf72': {'neg': 0.0, 'neu': 0.859, 'pos': 0.141, 'compound': 0.4215},\n",
       " '4dc7327dd8': {'neg': 0.0, 'neu': 0.769, 'pos': 0.231, 'compound': 0.6597},\n",
       " 'f5c5fbc40b': {'neg': 0.0, 'neu': 0.603, 'pos': 0.397, 'compound': 0.5574},\n",
       " '124e448e00': {'neg': 0.0, 'neu': 0.822, 'pos': 0.178, 'compound': 0.0772},\n",
       " '641db1b766': {'neg': 0.0, 'neu': 1.0, 'pos': 0.0, 'compound': 0.0},\n",
       " '7286b251ca': {'neg': 0.0, 'neu': 1.0, 'pos': 0.0, 'compound': 0.0},\n",
       " '4a704b77f2': {'neg': 0.0, 'neu': 1.0, 'pos': 0.0, 'compound': 0.0},\n",
       " 'd046aa63bc': {'neg': 0.0, 'neu': 0.662, 'pos': 0.338, 'compound': 0.8258},\n",
       " '8a4740ee53': {'neg': 0.0, 'neu': 0.909, 'pos': 0.091, 'compound': 0.0772},\n",
       " 'd66f920dbd': {'neg': 0.0, 'neu': 0.894, 'pos': 0.106, 'compound': 0.2263},\n",
       " '64f91449b7': {'neg': 0.0, 'neu': 1.0, 'pos': 0.0, 'compound': 0.0},\n",
       " '53dc5649da': {'neg': 0.0, 'neu': 1.0, 'pos': 0.0, 'compound': 0.0},\n",
       " 'f2f7763cfd': {'neg': 0.0, 'neu': 0.505, 'pos': 0.495, 'compound': 0.5994},\n",
       " '2abfe0decb': {'neg': 0.218, 'neu': 0.46, 'pos': 0.322, 'compound': 0.2263},\n",
       " '7a7228dc2e': {'neg': 0.75, 'neu': 0.25, 'pos': 0.0, 'compound': -0.4588},\n",
       " '754ebd84b4': {'neg': 0.0, 'neu': 1.0, 'pos': 0.0, 'compound': 0.0},\n",
       " 'fba4c01756': {'neg': 0.387, 'neu': 0.613, 'pos': 0.0, 'compound': -0.7877},\n",
       " '0888304834': {'neg': 0.103, 'neu': 0.603, 'pos': 0.294, 'compound': 0.6347},\n",
       " '88d8e96213': {'neg': 0.0, 'neu': 0.62, 'pos': 0.38, 'compound': 0.8617},\n",
       " '38b762e325': {'neg': 0.0, 'neu': 0.791, 'pos': 0.209, 'compound': 0.4404},\n",
       " '94e82d1574': {'neg': 0.0, 'neu': 1.0, 'pos': 0.0, 'compound': 0.0},\n",
       " 'c10f52f160': {'neg': 0.082, 'neu': 0.8, 'pos': 0.118, 'compound': 0.2244},\n",
       " '7e66ca1a42': {'neg': 0.0, 'neu': 1.0, 'pos': 0.0, 'compound': 0.0},\n",
       " '697887b4a1': {'neg': 0.0, 'neu': 0.706, 'pos': 0.294, 'compound': 0.7574},\n",
       " '1a1c392802': {'neg': 0.0, 'neu': 0.769, 'pos': 0.231, 'compound': 0.5106},\n",
       " '95b9338e05': {'neg': 0.0, 'neu': 1.0, 'pos': 0.0, 'compound': 0.0},\n",
       " 'b0b24ed515': {'neg': 0.0, 'neu': 0.84, 'pos': 0.16, 'compound': 0.5859},\n",
       " 'd31f708485': {'neg': 0.293, 'neu': 0.487, 'pos': 0.219, 'compound': -0.1546},\n",
       " '200f31449b': {'neg': 0.12, 'neu': 0.544, 'pos': 0.337, 'compound': 0.6114},\n",
       " '3aae3dab5c': {'neg': 0.15, 'neu': 0.85, 'pos': 0.0, 'compound': -0.3182},\n",
       " '8415e9b138': {'neg': 0.073, 'neu': 0.777, 'pos': 0.15, 'compound': 0.3612},\n",
       " '7a4a97fba9': {'neg': 0.159, 'neu': 0.841, 'pos': 0.0, 'compound': -0.4287},\n",
       " 'e3a441b9eb': {'neg': 0.0, 'neu': 0.73, 'pos': 0.27, 'compound': 0.5859},\n",
       " '32ffcb07c4': {'neg': 0.0, 'neu': 0.69, 'pos': 0.31, 'compound': 0.5423},\n",
       " '0ef15a1349': {'neg': 0.0, 'neu': 0.51, 'pos': 0.49, 'compound': 0.5859},\n",
       " '2a98bd4240': {'neg': 0.0, 'neu': 0.684, 'pos': 0.316, 'compound': 0.7562},\n",
       " '13dcb0f346': {'neg': 0.0, 'neu': 0.861, 'pos': 0.139, 'compound': 0.4404},\n",
       " '3c8e8d1940': {'neg': 0.0, 'neu': 1.0, 'pos': 0.0, 'compound': 0.0},\n",
       " 'a33b610db4': {'neg': 0.0, 'neu': 1.0, 'pos': 0.0, 'compound': 0.0},\n",
       " '1f42d08f3e': {'neg': 0.0, 'neu': 1.0, 'pos': 0.0, 'compound': 0.0},\n",
       " '02e6423e39': {'neg': 0.115, 'neu': 0.577, 'pos': 0.308, 'compound': 0.6124},\n",
       " '9c2b1313af': {'neg': 0.0, 'neu': 0.676, 'pos': 0.324, 'compound': 0.8883},\n",
       " '51c2d21362': {'neg': 0.186, 'neu': 0.814, 'pos': 0.0, 'compound': -0.4926},\n",
       " '16370c0a2e': {'neg': 0.217, 'neu': 0.783, 'pos': 0.0, 'compound': -0.3595},\n",
       " 'edeeaa9756': {'neg': 0.0, 'neu': 1.0, 'pos': 0.0, 'compound': 0.0},\n",
       " 'feec8aa27b': {'neg': 0.0, 'neu': 0.713, 'pos': 0.287, 'compound': 0.8345},\n",
       " '8542ba9b94': {'neg': 0.16, 'neu': 0.84, 'pos': 0.0, 'compound': -0.2732},\n",
       " '6912e77231': {'neg': 0.0, 'neu': 1.0, 'pos': 0.0, 'compound': 0.0},\n",
       " 'e6c988afb8': {'neg': 0.109, 'neu': 0.891, 'pos': 0.0, 'compound': -0.296},\n",
       " '9652c18d7d': {'neg': 0.0, 'neu': 1.0, 'pos': 0.0, 'compound': 0.0},\n",
       " 'df9882c24d': {'neg': 0.125, 'neu': 0.875, 'pos': 0.0, 'compound': -0.25},\n",
       " '22a8a4639e': {'neg': 0.171, 'neu': 0.389, 'pos': 0.44, 'compound': 0.5352},\n",
       " 'ee9df322d1': {'neg': 0.178, 'neu': 0.822, 'pos': 0.0, 'compound': -0.0772},\n",
       " 'd9107173c4': {'neg': 0.0, 'neu': 1.0, 'pos': 0.0, 'compound': 0.0},\n",
       " '7082999a93': {'neg': 0.268, 'neu': 0.732, 'pos': 0.0, 'compound': -0.5106},\n",
       " 'cf29e364fe': {'neg': 0.168, 'neu': 0.832, 'pos': 0.0, 'compound': -0.2057},\n",
       " 'ea567e664a': {'neg': 0.294, 'neu': 0.706, 'pos': 0.0, 'compound': -0.3612},\n",
       " '912bbdea65': {'neg': 0.0, 'neu': 0.682, 'pos': 0.318, 'compound': 0.636},\n",
       " '060d8bb5d5': {'neg': 0.142, 'neu': 0.619, 'pos': 0.239, 'compound': 0.2732},\n",
       " 'a07b1d9eea': {'neg': 0.0, 'neu': 1.0, 'pos': 0.0, 'compound': 0.0},\n",
       " '18f60b8879': {'neg': 0.0, 'neu': 0.732, 'pos': 0.268, 'compound': 0.8268},\n",
       " '6abd11b766': {'neg': 0.0, 'neu': 0.751, 'pos': 0.249, 'compound': 0.5647},\n",
       " 'faaf5f743d': {'neg': 0.3, 'neu': 0.524, 'pos': 0.177, 'compound': -0.4359},\n",
       " '7311789bcc': {'neg': 0.0, 'neu': 0.588, 'pos': 0.412, 'compound': 0.6808},\n",
       " '726e099885': {'neg': 0.0, 'neu': 0.592, 'pos': 0.408, 'compound': 0.7351},\n",
       " '56d742e6bc': {'neg': 0.469, 'neu': 0.531, 'pos': 0.0, 'compound': -0.6488},\n",
       " '65ffd159b2': {'neg': 0.0, 'neu': 0.263, 'pos': 0.737, 'compound': 0.6808},\n",
       " '0b64c5977e': {'neg': 0.238, 'neu': 0.762, 'pos': 0.0, 'compound': -0.3597},\n",
       " '151bba80ca': {'neg': 0.0, 'neu': 0.705, 'pos': 0.295, 'compound': 0.7717},\n",
       " '0ec5989a18': {'neg': 0.0, 'neu': 1.0, 'pos': 0.0, 'compound': 0.0},\n",
       " '2f3ff51870': {'neg': 0.0, 'neu': 1.0, 'pos': 0.0, 'compound': 0.0},\n",
       " 'c2fc42a9ff': {'neg': 0.155, 'neu': 0.845, 'pos': 0.0, 'compound': -0.5106},\n",
       " '09c0bef389': {'neg': 0.0, 'neu': 0.741, 'pos': 0.259, 'compound': 0.4215},\n",
       " '72cfb17265': {'neg': 0.101, 'neu': 0.899, 'pos': 0.0, 'compound': -0.2263},\n",
       " 'cbbe4f2dd4': {'neg': 0.0, 'neu': 0.388, 'pos': 0.612, 'compound': 0.743},\n",
       " '9856eea986': {'neg': 0.0, 'neu': 0.842, 'pos': 0.158, 'compound': 0.5106},\n",
       " '4f6c17bae7': {'neg': 0.34, 'neu': 0.66, 'pos': 0.0, 'compound': -0.7339},\n",
       " 'fa1385e537': {'neg': 0.182, 'neu': 0.818, 'pos': 0.0, 'compound': -0.4199},\n",
       " 'b41f647910': {'neg': 0.167, 'neu': 0.833, 'pos': 0.0, 'compound': -0.1531},\n",
       " '74e92f4188': {'neg': 0.0, 'neu': 0.374, 'pos': 0.626, 'compound': 0.9246},\n",
       " '4e6eb888c1': {'neg': 0.0, 'neu': 0.26, 'pos': 0.74, 'compound': 0.6908},\n",
       " '315d2392c9': {'neg': 0.0, 'neu': 0.791, 'pos': 0.209, 'compound': 0.4404},\n",
       " '1baeebaf86': {'neg': 0.108, 'neu': 0.788, 'pos': 0.103, 'compound': -0.0258},\n",
       " '216e541532': {'neg': 0.431, 'neu': 0.569, 'pos': 0.0, 'compound': -0.4199},\n",
       " 'f383ad9856': {'neg': 0.096, 'neu': 0.464, 'pos': 0.44, 'compound': 0.8858},\n",
       " '2461db68e0': {'neg': 0.0, 'neu': 0.649, 'pos': 0.351, 'compound': 0.4019},\n",
       " '9ec17fe80c': {'neg': 0.0, 'neu': 0.714, 'pos': 0.286, 'compound': 0.34},\n",
       " '034f2e2104': {'neg': 0.667, 'neu': 0.333, 'pos': 0.0, 'compound': -0.7184},\n",
       " 'f09816a243': {'neg': 0.0, 'neu': 0.874, 'pos': 0.126, 'compound': 0.0772},\n",
       " '6a9023f1af': {'neg': 0.321, 'neu': 0.679, 'pos': 0.0, 'compound': -0.2244},\n",
       " 'afca91dc92': {'neg': 0.0, 'neu': 0.575, 'pos': 0.425, 'compound': 0.8777},\n",
       " 'cdcaac066e': {'neg': 0.0, 'neu': 0.87, 'pos': 0.13, 'compound': 0.5093},\n",
       " 'edde759bde': {'neg': 0.0, 'neu': 0.51, 'pos': 0.49, 'compound': 0.8264},\n",
       " '781d900e89': {'neg': 0.066, 'neu': 0.808, 'pos': 0.126, 'compound': 0.296},\n",
       " '8aacb54f42': {'neg': 0.0, 'neu': 0.954, 'pos': 0.046, 'compound': 0.0258},\n",
       " '6172153918': {'neg': 0.0, 'neu': 0.345, 'pos': 0.655, 'compound': 0.5859},\n",
       " '486806238c': {'neg': 0.117, 'neu': 0.883, 'pos': 0.0, 'compound': -0.4648},\n",
       " '8e26c8c6e8': {'neg': 0.518, 'neu': 0.482, 'pos': 0.0, 'compound': -0.8225},\n",
       " '0be8e9f2fd': {'neg': 0.123, 'neu': 0.643, 'pos': 0.234, 'compound': 0.4459},\n",
       " '8df4e78879': {'neg': 0.0, 'neu': 0.881, 'pos': 0.119, 'compound': 0.2247},\n",
       " '9843ecd416': {'neg': 0.0, 'neu': 1.0, 'pos': 0.0, 'compound': 0.0},\n",
       " '33596d8109': {'neg': 0.369, 'neu': 0.631, 'pos': 0.0, 'compound': -0.5687},\n",
       " 'cf0e868f70': {'neg': 0.0, 'neu': 0.491, 'pos': 0.509, 'compound': 0.8856},\n",
       " '82215b50d4': {'neg': 0.0, 'neu': 1.0, 'pos': 0.0, 'compound': 0.0},\n",
       " '150ebb41ba': {'neg': 0.217, 'neu': 0.657, 'pos': 0.126, 'compound': -0.4182},\n",
       " '1689a46690': {'neg': 0.0, 'neu': 0.0, 'pos': 1.0, 'compound': 0.6908},\n",
       " '0d709a4c51': {'neg': 0.0, 'neu': 1.0, 'pos': 0.0, 'compound': 0.0},\n",
       " '17775140c5': {'neg': 0.0, 'neu': 0.882, 'pos': 0.118, 'compound': 0.1882},\n",
       " '3b0e6c2c55': {'neg': 0.168, 'neu': 0.832, 'pos': 0.0, 'compound': -0.6166},\n",
       " '9602407df9': {'neg': 0.272, 'neu': 0.57, 'pos': 0.158, 'compound': -0.4215},\n",
       " 'a53c829bee': {'neg': 0.0, 'neu': 1.0, 'pos': 0.0, 'compound': 0.0},\n",
       " 'd681f0dfbc': {'neg': 0.0, 'neu': 0.617, 'pos': 0.383, 'compound': 0.8271},\n",
       " 'c81e21ffd8': {'neg': 0.0, 'neu': 1.0, 'pos': 0.0, 'compound': 0.0},\n",
       " '2839a4d1d8': {'neg': 0.545, 'neu': 0.455, 'pos': 0.0, 'compound': -0.5859},\n",
       " '5b747a13f6': {'neg': 0.182, 'neu': 0.455, 'pos': 0.364, 'compound': 0.3818},\n",
       " 'b1fd9116e3': {'neg': 0.0, 'neu': 0.43, 'pos': 0.57, 'compound': 0.6486},\n",
       " 'c628741a80': {'neg': 0.063, 'neu': 0.778, 'pos': 0.159, 'compound': 0.3818},\n",
       " 'd2c66b666d': {'neg': 0.0, 'neu': 1.0, 'pos': 0.0, 'compound': 0.0},\n",
       " '954ab76021': {'neg': 0.0, 'neu': 0.504, 'pos': 0.496, 'compound': 0.8346},\n",
       " '996630f6a0': {'neg': 0.0, 'neu': 0.914, 'pos': 0.086, 'compound': 0.1779},\n",
       " '0b2c0c6522': {'neg': 0.0, 'neu': 0.561, 'pos': 0.439, 'compound': 0.6688},\n",
       " '5fbd854b80': {'neg': 0.067, 'neu': 0.529, 'pos': 0.404, 'compound': 0.7906},\n",
       " '443d30a0ba': {'neg': 0.143, 'neu': 0.585, 'pos': 0.273, 'compound': 0.5837},\n",
       " '17f4db5ddf': {'neg': 0.0, 'neu': 1.0, 'pos': 0.0, 'compound': 0.0},\n",
       " '35e2ce08fc': {'neg': 0.0, 'neu': 1.0, 'pos': 0.0, 'compound': 0.0},\n",
       " '2b6017f8f5': {'neg': 0.213, 'neu': 0.787, 'pos': 0.0, 'compound': -0.4215},\n",
       " 'fbba87adcf': {'neg': 0.113, 'neu': 0.718, 'pos': 0.169, 'compound': 0.2732},\n",
       " '5cc8486398': {'neg': 0.0, 'neu': 0.706, 'pos': 0.294, 'compound': 0.3612},\n",
       " '8f74422345': {'neg': 0.0, 'neu': 0.741, 'pos': 0.259, 'compound': 0.4215},\n",
       " '03f9f6f798': {'neg': 0.0, 'neu': 1.0, 'pos': 0.0, 'compound': 0.0},\n",
       " 'df120c16ce': {'neg': 0.0, 'neu': 1.0, 'pos': 0.0, 'compound': 0.0},\n",
       " '7f0cdc1ac1': {'neg': 0.196, 'neu': 0.804, 'pos': 0.0, 'compound': -0.0572},\n",
       " 'c8ac0b9545': {'neg': 0.636, 'neu': 0.364, 'pos': 0.0, 'compound': -0.5423},\n",
       " 'bc879a25b0': {'neg': 0.0, 'neu': 1.0, 'pos': 0.0, 'compound': 0.0},\n",
       " 'c3bdaf65c9': {'neg': 0.271, 'neu': 0.729, 'pos': 0.0, 'compound': -0.1531},\n",
       " 'fa82c3881c': {'neg': 0.183, 'neu': 0.693, 'pos': 0.124, 'compound': -0.296},\n",
       " '6cb03d7c46': {'neg': 0.0, 'neu': 1.0, 'pos': 0.0, 'compound': 0.0},\n",
       " '4344cafbdc': {'neg': 0.097, 'neu': 0.58, 'pos': 0.324, 'compound': 0.7936},\n",
       " 'e573de5429': {'neg': 0.0, 'neu': 0.52, 'pos': 0.48, 'compound': 0.9309},\n",
       " '4f9abe51eb': {'neg': 0.0, 'neu': 0.819, 'pos': 0.181, 'compound': 0.4526},\n",
       " '3ca79f00a1': {'neg': 0.276, 'neu': 0.724, 'pos': 0.0, 'compound': -0.6369},\n",
       " '1fce3e2d7b': {'neg': 0.167, 'neu': 0.705, 'pos': 0.128, 'compound': 0.0258},\n",
       " '21c1915272': {'neg': 0.0, 'neu': 0.446, 'pos': 0.554, 'compound': 0.9284},\n",
       " 'efa98d8489': {'neg': 0.0, 'neu': 0.448, 'pos': 0.552, 'compound': 0.5719},\n",
       " '7c59eb38ea': {'neg': 0.0, 'neu': 1.0, 'pos': 0.0, 'compound': 0.0},\n",
       " 'e69a965399': {'neg': 0.565, 'neu': 0.435, 'pos': 0.0, 'compound': -0.7579},\n",
       " '2f1cd44ea2': {'neg': 0.0, 'neu': 0.897, 'pos': 0.103, 'compound': 0.0387},\n",
       " '0a91a64e53': {'neg': 0.147, 'neu': 0.667, 'pos': 0.187, 'compound': 0.1531},\n",
       " 'a5fbb6fbe8': {'neg': 0.384, 'neu': 0.455, 'pos': 0.162, 'compound': -0.6597},\n",
       " 'a63858d0d8': {'neg': 0.524, 'neu': 0.476, 'pos': 0.0, 'compound': -0.296},\n",
       " '3e4b3ec6a6': {'neg': 0.186, 'neu': 0.626, 'pos': 0.188, 'compound': 0.0173},\n",
       " 'be6c6fa1b5': {'neg': 0.0, 'neu': 0.798, 'pos': 0.202, 'compound': 0.5106},\n",
       " '271c145699': {'neg': 0.105, 'neu': 0.76, 'pos': 0.135, 'compound': 0.1655},\n",
       " '4dd72d3713': {'neg': 0.078, 'neu': 0.422, 'pos': 0.5, 'compound': 0.7906},\n",
       " '63a116ae1b': {'neg': 0.108, 'neu': 0.892, 'pos': 0.0, 'compound': -0.3939},\n",
       " '167b97c32a': {'neg': 0.0, 'neu': 0.568, 'pos': 0.432, 'compound': 0.765},\n",
       " '9fd51c9c2c': {'neg': 0.0, 'neu': 0.61, 'pos': 0.39, 'compound': 0.4939},\n",
       " 'd7a7afa0a2': {'neg': 0.0, 'neu': 0.632, 'pos': 0.368, 'compound': 0.9129},\n",
       " '2331d16c42': {'neg': 0.0, 'neu': 0.699, 'pos': 0.301, 'compound': 0.8016},\n",
       " 'f7aa8dcfb8': {'neg': 0.0, 'neu': 1.0, 'pos': 0.0, 'compound': 0.0},\n",
       " '4efc7222ad': {'neg': 0.2, 'neu': 0.522, 'pos': 0.278, 'compound': 0.4003},\n",
       " '925e61d3d8': {'neg': 0.155, 'neu': 0.845, 'pos': 0.0, 'compound': -0.296},\n",
       " '07e2021536': {'neg': 0.247, 'neu': 0.753, 'pos': 0.0, 'compound': -0.5599},\n",
       " 'ff0112e0e7': {'neg': 0.0, 'neu': 0.427, 'pos': 0.573, 'compound': 0.7717},\n",
       " '15f47296e2': {'neg': 0.405, 'neu': 0.595, 'pos': 0.0, 'compound': -0.778},\n",
       " 'eba1f29fb0': {'neg': 0.195, 'neu': 0.629, 'pos': 0.176, 'compound': -0.0772},\n",
       " '57dcad6611': {'neg': 0.0, 'neu': 1.0, 'pos': 0.0, 'compound': 0.0},\n",
       " '4e85f6e9b0': {'neg': 0.268, 'neu': 0.732, 'pos': 0.0, 'compound': -0.296},\n",
       " 'e5b5debcdc': {'neg': 0.212, 'neu': 0.788, 'pos': 0.0, 'compound': -0.3612},\n",
       " '2a2fd0848d': {'neg': 0.0, 'neu': 1.0, 'pos': 0.0, 'compound': 0.0},\n",
       " '98ef34a9f4': {'neg': 0.0, 'neu': 0.566, 'pos': 0.434, 'compound': 0.7845},\n",
       " 'e68a0375b2': {'neg': 0.0, 'neu': 1.0, 'pos': 0.0, 'compound': 0.0},\n",
       " 'be8ba96aca': {'neg': 0.0, 'neu': 0.52, 'pos': 0.48, 'compound': 0.8118},\n",
       " 'e6eb0f8e54': {'neg': 0.102, 'neu': 0.369, 'pos': 0.529, 'compound': 0.6841},\n",
       " 'e364d5cdd1': {'neg': 0.216, 'neu': 0.713, 'pos': 0.071, 'compound': -0.6659},\n",
       " 'a5d4af0d80': {'neg': 0.0, 'neu': 1.0, 'pos': 0.0, 'compound': 0.0},\n",
       " '4ccb7ef67c': {'neg': 0.0, 'neu': 0.824, 'pos': 0.176, 'compound': 0.4939},\n",
       " 'a82816a060': {'neg': 0.22, 'neu': 0.5, 'pos': 0.28, 'compound': 0.1531},\n",
       " '331663d438': {'neg': 0.0, 'neu': 0.813, 'pos': 0.187, 'compound': 0.5994},\n",
       " 'ae8fd767fc': {'neg': 0.188, 'neu': 0.74, 'pos': 0.072, 'compound': -0.5894},\n",
       " '61e04b8f6e': {'neg': 0.131, 'neu': 0.674, 'pos': 0.195, 'compound': 0.1779},\n",
       " 'cc0bc2a05d': {'neg': 0.0, 'neu': 0.851, 'pos': 0.149, 'compound': 0.4215},\n",
       " 'e553176c2a': {'neg': 0.0, 'neu': 0.48, 'pos': 0.52, 'compound': 0.7574},\n",
       " '762b9211cf': {'neg': 0.184, 'neu': 0.56, 'pos': 0.256, 'compound': 0.2263},\n",
       " '241ece149d': {'neg': 0.0, 'neu': 0.832, 'pos': 0.168, 'compound': 0.4648},\n",
       " '716301c33e': {'neg': 0.0, 'neu': 1.0, 'pos': 0.0, 'compound': 0.0},\n",
       " '119bbd840c': {'neg': 0.0, 'neu': 0.37, 'pos': 0.63, 'compound': 0.6249},\n",
       " '6beb4754f0': {'neg': 0.106, 'neu': 0.635, 'pos': 0.259, 'compound': 0.4404},\n",
       " 'b8fbbf1936': {'neg': 0.259, 'neu': 0.741, 'pos': 0.0, 'compound': -0.6739},\n",
       " '7314b068f7': {'neg': 0.099, 'neu': 0.711, 'pos': 0.19, 'compound': 0.3954},\n",
       " '80a24991b3': {'neg': 0.0, 'neu': 1.0, 'pos': 0.0, 'compound': 0.0},\n",
       " '0549e452ec': {'neg': 0.307, 'neu': 0.693, 'pos': 0.0, 'compound': -0.4769},\n",
       " 'ebeea1f86c': {'neg': 0.161, 'neu': 0.78, 'pos': 0.059, 'compound': -0.4767},\n",
       " 'd35ae0cfa5': {'neg': 0.134, 'neu': 0.866, 'pos': 0.0, 'compound': -0.3578},\n",
       " '4f09c42f8b': {'neg': 0.0, 'neu': 1.0, 'pos': 0.0, 'compound': 0.0},\n",
       " 'a8f6fc8b5a': {'neg': 0.0, 'neu': 0.783, 'pos': 0.217, 'compound': 0.6312},\n",
       " 'fcfa10681f': {'neg': 0.0, 'neu': 1.0, 'pos': 0.0, 'compound': 0.0},\n",
       " 'b04bbb81c9': {'neg': 0.0, 'neu': 1.0, 'pos': 0.0, 'compound': 0.0},\n",
       " 'a88de8cc26': {'neg': 0.0, 'neu': 0.709, 'pos': 0.291, 'compound': 0.5719},\n",
       " '289317384e': {'neg': 0.138, 'neu': 0.458, 'pos': 0.404, 'compound': 0.5402},\n",
       " 'bfa9cdee68': {'neg': 0.434, 'neu': 0.442, 'pos': 0.124, 'compound': -0.8634},\n",
       " '5210cc55ae': {'neg': 1.0, 'neu': 0.0, 'pos': 0.0, 'compound': -0.296},\n",
       " 'ea25722a23': {'neg': 0.0, 'neu': 0.547, 'pos': 0.453, 'compound': 0.7003},\n",
       " 'f3a5b39195': {'neg': 0.0, 'neu': 1.0, 'pos': 0.0, 'compound': 0.0},\n",
       " 'ba4bcf57b5': {'neg': 0.0, 'neu': 0.788, 'pos': 0.212, 'compound': 0.3987},\n",
       " '532d442071': {'neg': 0.0, 'neu': 0.729, 'pos': 0.271, 'compound': 0.6239},\n",
       " '1b9afa81bf': {'neg': 0.0, 'neu': 1.0, 'pos': 0.0, 'compound': 0.0},\n",
       " '3fd7a35f32': {'neg': 0.0, 'neu': 0.656, 'pos': 0.344, 'compound': 0.5673},\n",
       " 'c029d4a557': {'neg': 0.0, 'neu': 0.741, 'pos': 0.259, 'compound': 0.4215},\n",
       " '19af686703': {'neg': 0.0, 'neu': 1.0, 'pos': 0.0, 'compound': 0.0},\n",
       " '4d97f4be67': {'neg': 0.0, 'neu': 0.723, 'pos': 0.277, 'compound': 0.3182},\n",
       " 'b5a110f491': {'neg': 0.0, 'neu': 0.213, 'pos': 0.787, 'compound': 0.5719},\n",
       " 'a834cef9c6': {'neg': 0.0, 'neu': 1.0, 'pos': 0.0, 'compound': 0.0},\n",
       " 'e6801164bc': {'neg': 0.0, 'neu': 0.5, 'pos': 0.5, 'compound': 0.7913},\n",
       " '687ee0bd2d': {'neg': 0.367, 'neu': 0.633, 'pos': 0.0, 'compound': -0.4404},\n",
       " 'e20b9a322f': {'neg': 0.331, 'neu': 0.669, 'pos': 0.0, 'compound': -0.872},\n",
       " 'b922b8b866': {'neg': 0.0, 'neu': 1.0, 'pos': 0.0, 'compound': 0.0},\n",
       " '84747e4e05': {'neg': 0.0, 'neu': 0.792, 'pos': 0.208, 'compound': 0.6705},\n",
       " 'ce4a3df3a9': {'neg': 0.0, 'neu': 1.0, 'pos': 0.0, 'compound': 0.0},\n",
       " '407f226cdb': {'neg': 0.0, 'neu': 0.557, 'pos': 0.443, 'compound': 0.7469},\n",
       " '7ce085e1ef': {'neg': 0.0, 'neu': 0.789, 'pos': 0.211, 'compound': 0.7243},\n",
       " 'f763af7a90': {'neg': 0.0, 'neu': 1.0, 'pos': 0.0, 'compound': 0.0},\n",
       " '4598e31e32': {'neg': 0.0, 'neu': 1.0, 'pos': 0.0, 'compound': 0.0},\n",
       " '153027be1c': {'neg': 0.255, 'neu': 0.745, 'pos': 0.0, 'compound': -0.4106},\n",
       " 'dd9b922aad': {'neg': 0.114, 'neu': 0.71, 'pos': 0.177, 'compound': 0.2244},\n",
       " '3f54e1d2cb': {'neg': 0.195, 'neu': 0.72, 'pos': 0.085, 'compound': -0.3818},\n",
       " '4cd893fb53': {'neg': 0.0, 'neu': 0.244, 'pos': 0.756, 'compound': 0.4753},\n",
       " '5caaa15e27': {'neg': 0.0, 'neu': 1.0, 'pos': 0.0, 'compound': 0.0},\n",
       " '1f3cab50fc': {'neg': 0.0, 'neu': 0.531, 'pos': 0.469, 'compound': 0.9097},\n",
       " 'f2e20448fa': {'neg': 0.0, 'neu': 1.0, 'pos': 0.0, 'compound': 0.0},\n",
       " '4f0ab06d15': {'neg': 0.0, 'neu': 0.583, 'pos': 0.417, 'compound': 0.8519},\n",
       " 'b4083313e2': {'neg': 0.124, 'neu': 0.62, 'pos': 0.256, 'compound': 0.4019},\n",
       " 'a2623622cc': {'neg': 0.365, 'neu': 0.317, 'pos': 0.317, 'compound': -0.0772},\n",
       " '66cb61f78f': {'neg': 0.0, 'neu': 1.0, 'pos': 0.0, 'compound': 0.0},\n",
       " '2209fb4785': {'neg': 0.0, 'neu': 1.0, 'pos': 0.0, 'compound': 0.0},\n",
       " '4568211cd0': {'neg': 0.0, 'neu': 1.0, 'pos': 0.0, 'compound': 0.0},\n",
       " '89ff9a9119': {'neg': 0.0, 'neu': 0.653, 'pos': 0.347, 'compound': 0.785},\n",
       " 'f589e82592': {'neg': 0.0, 'neu': 1.0, 'pos': 0.0, 'compound': 0.0},\n",
       " 'b36197ce92': {'neg': 0.244, 'neu': 0.595, 'pos': 0.161, 'compound': -0.34},\n",
       " '33889dffc9': {'neg': 0.0, 'neu': 0.56, 'pos': 0.44, 'compound': 0.6696},\n",
       " '9cba8bf464': {'neg': 0.0, 'neu': 0.61, 'pos': 0.39, 'compound': 0.4926},\n",
       " 'cba675bd52': {'neg': 0.0, 'neu': 0.859, 'pos': 0.141, 'compound': 0.2444},\n",
       " '6b12692b8d': {'neg': 0.082, 'neu': 0.678, 'pos': 0.24, 'compound': 0.6633},\n",
       " '04510889b6': {'neg': 0.071, 'neu': 0.765, 'pos': 0.164, 'compound': 0.4003},\n",
       " 'f44f3ff9a8': {'neg': 0.0, 'neu': 0.852, 'pos': 0.148, 'compound': 0.5374},\n",
       " '5bae99f344': {'neg': 0.11, 'neu': 0.651, 'pos': 0.24, 'compound': 0.5848},\n",
       " '24bc4edb49': {'neg': 0.154, 'neu': 0.674, 'pos': 0.173, 'compound': 0.1154},\n",
       " '9a1fc155de': {'neg': 0.0, 'neu': 1.0, 'pos': 0.0, 'compound': 0.0},\n",
       " '77711764bf': {'neg': 0.0, 'neu': 0.758, 'pos': 0.242, 'compound': 0.4926},\n",
       " '57025d9fd9': {'neg': 0.0, 'neu': 0.494, 'pos': 0.506, 'compound': 0.6249},\n",
       " 'd2a2993900': {'neg': 0.0, 'neu': 1.0, 'pos': 0.0, 'compound': 0.0},\n",
       " '1753eb0481': {'neg': 0.0, 'neu': 0.822, 'pos': 0.178, 'compound': 0.0772},\n",
       " 'df4b40b30e': {'neg': 0.307, 'neu': 0.693, 'pos': 0.0, 'compound': -0.8126},\n",
       " '196b4d6897': {'neg': 0.0, 'neu': 0.267, 'pos': 0.733, 'compound': 0.6705},\n",
       " 'b3719416fa': {'neg': 0.0, 'neu': 0.787, 'pos': 0.213, 'compound': 0.6597},\n",
       " 'ca5909d8ea': {'neg': 0.0, 'neu': 0.462, 'pos': 0.538, 'compound': 0.5411},\n",
       " '112a5320b5': {'neg': 0.0, 'neu': 0.758, 'pos': 0.242, 'compound': 0.1531},\n",
       " 'a3ff2fa162': {'neg': 0.0, 'neu': 1.0, 'pos': 0.0, 'compound': 0.0},\n",
       " '2f6d9d1419': {'neg': 0.0, 'neu': 1.0, 'pos': 0.0, 'compound': 0.0},\n",
       " '7d03216477': {'neg': 0.0, 'neu': 1.0, 'pos': 0.0, 'compound': 0.0},\n",
       " '439803cf54': {'neg': 0.351, 'neu': 0.564, 'pos': 0.085, 'compound': -0.8176},\n",
       " '7cfe40cca8': {'neg': 0.093, 'neu': 0.638, 'pos': 0.269, 'compound': 0.6169},\n",
       " 'a1847c4311': {'neg': 0.0, 'neu': 0.286, 'pos': 0.714, 'compound': 0.6114},\n",
       " 'e4c637df1d': {'neg': 0.257, 'neu': 0.588, 'pos': 0.154, 'compound': -0.34},\n",
       " 'fc53d120e4': {'neg': 0.101, 'neu': 0.595, 'pos': 0.304, 'compound': 0.6633},\n",
       " 'bbfcac5e08': {'neg': 0.0, 'neu': 1.0, 'pos': 0.0, 'compound': 0.0},\n",
       " '8a351a9ee7': {'neg': 0.0, 'neu': 1.0, 'pos': 0.0, 'compound': 0.0},\n",
       " 'c7bd31ba90': {'neg': 0.0, 'neu': 0.651, 'pos': 0.349, 'compound': 0.7096},\n",
       " 'fd5b328f6d': {'neg': 0.0, 'neu': 0.606, 'pos': 0.394, 'compound': 0.5994},\n",
       " '48096285e5': {'neg': 0.0, 'neu': 0.552, 'pos': 0.448, 'compound': 0.8602},\n",
       " '4c55586b72': {'neg': 0.0, 'neu': 0.291, 'pos': 0.709, 'compound': 0.7075},\n",
       " '6ea3693282': {'neg': 0.0, 'neu': 0.856, 'pos': 0.144, 'compound': 0.4939},\n",
       " '0a29424e62': {'neg': 0.0, 'neu': 1.0, 'pos': 0.0, 'compound': 0.0},\n",
       " 'f3c0386426': {'neg': 0.0, 'neu': 0.351, 'pos': 0.649, 'compound': 0.5719},\n",
       " '582090d484': {'neg': 0.0, 'neu': 0.556, 'pos': 0.444, 'compound': 0.4926},\n",
       " '72f8d5e864': {'neg': 0.0, 'neu': 0.625, 'pos': 0.375, 'compound': 0.6588},\n",
       " 'c30127adf3': {'neg': 0.0, 'neu': 1.0, 'pos': 0.0, 'compound': 0.0},\n",
       " '9d30f19fe0': {'neg': 0.337, 'neu': 0.326, 'pos': 0.337, 'compound': 0.0},\n",
       " '1b35e9d109': {'neg': 0.0, 'neu': 1.0, 'pos': 0.0, 'compound': 0.0},\n",
       " 'cae4719603': {'neg': 0.189, 'neu': 0.514, 'pos': 0.297, 'compound': 0.2263},\n",
       " '8fe7e90d7b': {'neg': 0.0, 'neu': 0.094, 'pos': 0.906, 'compound': 0.8652},\n",
       " '29244d2d46': {'neg': 0.0, 'neu': 0.803, 'pos': 0.197, 'compound': 0.4005},\n",
       " '503a362985': {'neg': 0.0, 'neu': 0.737, 'pos': 0.263, 'compound': 0.3612},\n",
       " '5ea02d49eb': {'neg': 0.12, 'neu': 0.468, 'pos': 0.412, 'compound': 0.9053},\n",
       " 'ba1a8153da': {'neg': 0.387, 'neu': 0.613, 'pos': 0.0, 'compound': -0.5848},\n",
       " 'e19e92412a': {'neg': 0.466, 'neu': 0.534, 'pos': 0.0, 'compound': -0.5413},\n",
       " '55bc437a33': {'neg': 0.0, 'neu': 1.0, 'pos': 0.0, 'compound': 0.0},\n",
       " '24f090ea3d': {'neg': 0.0, 'neu': 1.0, 'pos': 0.0, 'compound': 0.0},\n",
       " 'd5621b043e': {'neg': 0.0, 'neu': 1.0, 'pos': 0.0, 'compound': 0.0},\n",
       " 'd8ffeb6591': {'neg': 0.0, 'neu': 0.706, 'pos': 0.294, 'compound': 0.6124},\n",
       " 'd978b7f334': {'neg': 0.0, 'neu': 1.0, 'pos': 0.0, 'compound': 0.0},\n",
       " 'd4824f31d8': {'neg': 0.237, 'neu': 0.763, 'pos': 0.0, 'compound': -0.2183},\n",
       " '2eb8e4fd0a': {'neg': 0.097, 'neu': 0.781, 'pos': 0.123, 'compound': 0.1779},\n",
       " '829fd30504': {'neg': 0.483, 'neu': 0.517, 'pos': 0.0, 'compound': -0.4215},\n",
       " 'fc92519d0d': {'neg': 0.516, 'neu': 0.484, 'pos': 0.0, 'compound': -0.4939},\n",
       " 'a1bda541fd': {'neg': 0.0, 'neu': 0.0, 'pos': 1.0, 'compound': 0.296},\n",
       " 'b31f326e68': {'neg': 0.099, 'neu': 0.647, 'pos': 0.255, 'compound': 0.6792},\n",
       " '0bc2e46e4e': {'neg': 0.098, 'neu': 0.589, 'pos': 0.313, 'compound': 0.658},\n",
       " 'fddd46aee8': {'neg': 0.0, 'neu': 0.909, 'pos': 0.091, 'compound': 0.0772},\n",
       " '07069f29c4': {'neg': 0.29, 'neu': 0.556, 'pos': 0.155, 'compound': -0.34},\n",
       " '43d08e6dce': {'neg': 0.0, 'neu': 1.0, 'pos': 0.0, 'compound': 0.0},\n",
       " 'babf4b1bda': {'neg': 0.0, 'neu': 0.734, 'pos': 0.266, 'compound': 0.7003},\n",
       " 'a2056ff40a': {'neg': 0.592, 'neu': 0.408, 'pos': 0.0, 'compound': -0.4404},\n",
       " '94d2b00f6b': {'neg': 0.0, 'neu': 0.725, 'pos': 0.275, 'compound': 0.5859},\n",
       " 'ec66683c9f': {'neg': 0.0, 'neu': 0.714, 'pos': 0.286, 'compound': 0.4215},\n",
       " '5f1e07398b': {'neg': 0.0, 'neu': 0.821, 'pos': 0.179, 'compound': 0.5719},\n",
       " 'f93c297e3a': {'neg': 0.0, 'neu': 0.658, 'pos': 0.342, 'compound': 0.7762},\n",
       " '7420980c60': {'neg': 0.0, 'neu': 0.816, 'pos': 0.184, 'compound': 0.6209},\n",
       " 'cf30a8df0a': {'neg': 0.212, 'neu': 0.788, 'pos': 0.0, 'compound': -0.3453},\n",
       " '2af437c472': {'neg': 0.0, 'neu': 1.0, 'pos': 0.0, 'compound': 0.0},\n",
       " 'fab844f0c2': {'neg': 0.0, 'neu': 0.134, 'pos': 0.866, 'compound': 0.7568},\n",
       " 'c0f58575bf': {'neg': 0.181, 'neu': 0.725, 'pos': 0.094, 'compound': -0.296},\n",
       " '7d770c7bd6': {'neg': 0.455, 'neu': 0.545, 'pos': 0.0, 'compound': -0.3612},\n",
       " 'd707cc9cb1': {'neg': 0.0, 'neu': 0.904, 'pos': 0.096, 'compound': 0.2023},\n",
       " 'e451131bc1': {'neg': 0.103, 'neu': 0.465, 'pos': 0.432, 'compound': 0.8981},\n",
       " '876cd15514': {'neg': 0.0, 'neu': 1.0, 'pos': 0.0, 'compound': 0.0},\n",
       " '009ab3e6db': {'neg': 0.0, 'neu': 1.0, 'pos': 0.0, 'compound': 0.0},\n",
       " '8a8c28f5ba': {'neg': 0.0, 'neu': 0.55, 'pos': 0.45, 'compound': 0.9338},\n",
       " '6b064ca919': {'neg': 0.258, 'neu': 0.742, 'pos': 0.0, 'compound': -0.4184},\n",
       " 'cbdbfb9de2': {'neg': 0.645, 'neu': 0.355, 'pos': 0.0, 'compound': -0.8442},\n",
       " '51ed0c17c0': {'neg': 0.0, 'neu': 1.0, 'pos': 0.0, 'compound': 0.0},\n",
       " '8fee3fb6a4': {'neg': 0.0, 'neu': 1.0, 'pos': 0.0, 'compound': 0.0},\n",
       " '708b41b0c8': {'neg': 0.0, 'neu': 1.0, 'pos': 0.0, 'compound': 0.0},\n",
       " '44eba69b30': {'neg': 0.0, 'neu': 0.761, 'pos': 0.239, 'compound': 0.296},\n",
       " '10133a7283': {'neg': 0.286, 'neu': 0.714, 'pos': 0.0, 'compound': -0.5574},\n",
       " '901b9b9cc4': {'neg': 0.0, 'neu': 1.0, 'pos': 0.0, 'compound': 0.0},\n",
       " '2eaefcfa53': {'neg': 0.0, 'neu': 0.559, 'pos': 0.441, 'compound': 0.9118},\n",
       " '493f47d778': {'neg': 0.106, 'neu': 0.656, 'pos': 0.237, 'compound': 0.7351},\n",
       " '49e24a4501': {'neg': 0.194, 'neu': 0.806, 'pos': 0.0, 'compound': -0.0516},\n",
       " '36a0a476c5': {'neg': 0.115, 'neu': 0.574, 'pos': 0.311, 'compound': 0.5809},\n",
       " '5343b52f89': {'neg': 0.117, 'neu': 0.534, 'pos': 0.349, 'compound': 0.6997},\n",
       " '18cd7ae71d': {'neg': 0.0, 'neu': 0.732, 'pos': 0.268, 'compound': 0.6588},\n",
       " 'cb60620a4f': {'neg': 0.0, 'neu': 0.646, 'pos': 0.354, 'compound': 0.8519},\n",
       " '8396f13b4b': {'neg': 0.035, 'neu': 0.643, 'pos': 0.322, 'compound': 0.8979},\n",
       " 'c58b2ba46e': {'neg': 0.081, 'neu': 0.919, 'pos': 0.0, 'compound': -0.296},\n",
       " 'e350274c1a': {'neg': 0.0, 'neu': 0.494, 'pos': 0.506, 'compound': 0.6239},\n",
       " '66521b4652': {'neg': 0.375, 'neu': 0.625, 'pos': 0.0, 'compound': -0.5849},\n",
       " 'd116927538': {'neg': 0.0, 'neu': 1.0, 'pos': 0.0, 'compound': 0.0},\n",
       " '5dbe4cae20': {'neg': 0.0, 'neu': 1.0, 'pos': 0.0, 'compound': 0.0},\n",
       " 'c2ada5b889': {'neg': 0.141, 'neu': 0.467, 'pos': 0.392, 'compound': 0.8177},\n",
       " '8d9f0090b0': {'neg': 0.374, 'neu': 0.626, 'pos': 0.0, 'compound': -0.7318},\n",
       " '355a1e84e2': {'neg': 0.0, 'neu': 0.579, 'pos': 0.421, 'compound': 0.9201},\n",
       " 'da2bf1eb03': {'neg': 0.0, 'neu': 1.0, 'pos': 0.0, 'compound': 0.0},\n",
       " 'e9d903f9aa': {'neg': 0.0, 'neu': 1.0, 'pos': 0.0, 'compound': 0.0},\n",
       " '28f67f674e': {'neg': 0.189, 'neu': 0.811, 'pos': 0.0, 'compound': -0.5994},\n",
       " 'aba25eb3f5': {'neg': 0.174, 'neu': 0.826, 'pos': 0.0, 'compound': -0.2755},\n",
       " 'a30612b7f6': {'neg': 0.0, 'neu': 1.0, 'pos': 0.0, 'compound': 0.0},\n",
       " '13a9406926': {'neg': 0.131, 'neu': 0.507, 'pos': 0.363, 'compound': 0.7574},\n",
       " '5b2b140151': {'neg': 0.0, 'neu': 1.0, 'pos': 0.0, 'compound': 0.0},\n",
       " '923f7ee786': {'neg': 0.0, 'neu': 1.0, 'pos': 0.0, 'compound': 0.0},\n",
       " 'fac4f75f45': {'neg': 0.0, 'neu': 1.0, 'pos': 0.0, 'compound': 0.0},\n",
       " '28f000e641': {'neg': 0.213, 'neu': 0.787, 'pos': 0.0, 'compound': -0.2263},\n",
       " '152bedb5a6': {'neg': 0.0, 'neu': 0.783, 'pos': 0.217, 'compound': 0.6633},\n",
       " 'b2afb1cf57': {'neg': 0.288, 'neu': 0.712, 'pos': 0.0, 'compound': -0.664},\n",
       " '6d57e5fcb0': {'neg': 0.0, 'neu': 0.661, 'pos': 0.339, 'compound': 0.555},\n",
       " '27f1fa3214': {'neg': 0.0, 'neu': 0.41, 'pos': 0.59, 'compound': 0.802},\n",
       " '233b90417d': {'neg': 0.0, 'neu': 0.933, 'pos': 0.067, 'compound': 0.1139},\n",
       " '0d32a589d2': {'neg': 0.0, 'neu': 0.87, 'pos': 0.13, 'compound': 0.3382},\n",
       " '0aa7e2d375': {'neg': 0.127, 'neu': 0.873, 'pos': 0.0, 'compound': -0.323},\n",
       " '1d8c801864': {'neg': 0.0, 'neu': 1.0, 'pos': 0.0, 'compound': 0.0},\n",
       " '4d8c11c5cd': {'neg': 0.0, 'neu': 0.787, 'pos': 0.213, 'compound': 0.6209},\n",
       " '6bff31375d': {'neg': 0.0, 'neu': 1.0, 'pos': 0.0, 'compound': 0.0},\n",
       " '9e275c23b0': {'neg': 0.0, 'neu': 0.89, 'pos': 0.11, 'compound': 0.2732},\n",
       " '8074eded04': {'neg': 0.336, 'neu': 0.581, 'pos': 0.082, 'compound': -0.7385},\n",
       " 'ea4429b35a': {'neg': 0.0, 'neu': 0.664, 'pos': 0.336, 'compound': 0.7269},\n",
       " '70eb969d45': {'neg': 0.298, 'neu': 0.702, 'pos': 0.0, 'compound': -0.5255},\n",
       " '5c6d1a22c4': {'neg': 0.0, 'neu': 0.8, 'pos': 0.2, 'compound': 0.3612},\n",
       " '2003e360f8': {'neg': 0.0, 'neu': 1.0, 'pos': 0.0, 'compound': 0.0},\n",
       " '198c97b57a': {'neg': 0.0, 'neu': 1.0, 'pos': 0.0, 'compound': 0.0},\n",
       " '31fa81e0ae': {'neg': 0.0, 'neu': 0.578, 'pos': 0.422, 'compound': 0.7639},\n",
       " '68d82a25f9': {'neg': 0.132, 'neu': 0.813, 'pos': 0.055, 'compound': -0.3855},\n",
       " '38b91a3688': {'neg': 0.283, 'neu': 0.717, 'pos': 0.0, 'compound': -0.7269},\n",
       " 'c380578d03': {'neg': 0.0, 'neu': 0.512, 'pos': 0.488, 'compound': 0.9076},\n",
       " '22e968402f': {'neg': 0.0, 'neu': 1.0, 'pos': 0.0, 'compound': 0.0},\n",
       " '469ce3aeee': {'neg': 0.0, 'neu': 1.0, 'pos': 0.0, 'compound': 0.0},\n",
       " '34af663e50': {'neg': 0.0, 'neu': 0.724, 'pos': 0.276, 'compound': 0.8038},\n",
       " '7f9b45945a': {'neg': 0.183, 'neu': 0.672, 'pos': 0.145, 'compound': -0.0387},\n",
       " 'ab75ab645f': {'neg': 0.0, 'neu': 0.265, 'pos': 0.735, 'compound': 0.4168},\n",
       " '10602528ed': {'neg': 0.0, 'neu': 0.78, 'pos': 0.22, 'compound': 0.7125},\n",
       " 'f5f26ea04a': {'neg': 0.0, 'neu': 0.792, 'pos': 0.208, 'compound': 0.2732},\n",
       " 'f00bd4ea4e': {'neg': 0.0, 'neu': 1.0, 'pos': 0.0, 'compound': 0.0},\n",
       " '24cb365662': {'neg': 0.0, 'neu': 0.756, 'pos': 0.244, 'compound': 0.7773},\n",
       " 'de2af3c3a5': {'neg': 0.0, 'neu': 0.884, 'pos': 0.116, 'compound': 0.4404},\n",
       " '7820f628a4': {'neg': 0.0, 'neu': 1.0, 'pos': 0.0, 'compound': 0.0},\n",
       " 'b1dea509d6': {'neg': 0.0, 'neu': 1.0, 'pos': 0.0, 'compound': 0.0},\n",
       " '981713769d': {'neg': 0.138, 'neu': 0.862, 'pos': 0.0, 'compound': -0.3382},\n",
       " '520eec948e': {'neg': 0.0, 'neu': 1.0, 'pos': 0.0, 'compound': 0.0},\n",
       " '29e8b6bb7f': {'neg': 0.08, 'neu': 0.92, 'pos': 0.0, 'compound': -0.1027},\n",
       " '252e56c4d1': {'neg': 0.209, 'neu': 0.723, 'pos': 0.068, 'compound': -0.5972},\n",
       " '3dd678750f': {'neg': 0.0, 'neu': 0.545, 'pos': 0.455, 'compound': 0.7712},\n",
       " 'dd2a3bd5b8': {'neg': 0.294, 'neu': 0.513, 'pos': 0.193, 'compound': -0.2885},\n",
       " '33fd898450': {'neg': 0.0, 'neu': 0.556, 'pos': 0.444, 'compound': 0.4939},\n",
       " '3fe5d830f7': {'neg': 0.0, 'neu': 0.671, 'pos': 0.329, 'compound': 0.6597},\n",
       " 'fa0813c599': {'neg': 0.0, 'neu': 1.0, 'pos': 0.0, 'compound': 0.0},\n",
       " '7a4a289831': {'neg': 0.0, 'neu': 1.0, 'pos': 0.0, 'compound': 0.0},\n",
       " '28f9a33b14': {'neg': 0.0, 'neu': 1.0, 'pos': 0.0, 'compound': 0.0},\n",
       " '2991e56ed4': {'neg': 0.0, 'neu': 0.769, 'pos': 0.231, 'compound': 0.4019},\n",
       " 'b75505e7a6': {'neg': 0.0, 'neu': 1.0, 'pos': 0.0, 'compound': 0.0},\n",
       " '01427ed7f0': {'neg': 0.656, 'neu': 0.344, 'pos': 0.0, 'compound': -0.8869},\n",
       " '0526a41f4b': {'neg': 0.0, 'neu': 1.0, 'pos': 0.0, 'compound': 0.0},\n",
       " '518ae43e25': {'neg': 0.0, 'neu': 0.481, 'pos': 0.519, 'compound': 0.6597},\n",
       " '81adf60881': {'neg': 0.0, 'neu': 0.854, 'pos': 0.146, 'compound': 0.4404},\n",
       " '2d94c993c9': {'neg': 0.0, 'neu': 0.626, 'pos': 0.374, 'compound': 0.5551},\n",
       " '90469c762f': {'neg': 0.147, 'neu': 0.667, 'pos': 0.186, 'compound': 0.1511},\n",
       " '647e680fec': {'neg': 0.0, 'neu': 0.804, 'pos': 0.196, 'compound': 0.5279},\n",
       " '9db3cb33a2': {'neg': 0.0, 'neu': 0.766, 'pos': 0.234, 'compound': 0.7269},\n",
       " '020a2d26ec': {'neg': 0.21, 'neu': 0.673, 'pos': 0.117, 'compound': -0.3274},\n",
       " 'e3d78da8b9': {'neg': 0.0, 'neu': 0.48, 'pos': 0.52, 'compound': 0.872},\n",
       " 'c9d567bba5': {'neg': 0.091, 'neu': 0.909, 'pos': 0.0, 'compound': -0.296},\n",
       " '0397995d17': {'neg': 0.0, 'neu': 1.0, 'pos': 0.0, 'compound': 0.0},\n",
       " '49f811f90c': {'neg': 0.079, 'neu': 0.921, 'pos': 0.0, 'compound': -0.0516},\n",
       " 'aaf0bbf7c8': {'neg': 0.0, 'neu': 0.804, 'pos': 0.196, 'compound': 0.5994},\n",
       " '43b0426667': {'neg': 0.14, 'neu': 0.467, 'pos': 0.393, 'compound': 0.5848},\n",
       " 'e9785cbd8c': {'neg': 0.225, 'neu': 0.775, 'pos': 0.0, 'compound': -0.4404},\n",
       " '2617b9c9e3': {'neg': 0.0, 'neu': 1.0, 'pos': 0.0, 'compound': 0.0},\n",
       " '69db8f3c7e': {'neg': 0.213, 'neu': 0.629, 'pos': 0.157, 'compound': -0.5023},\n",
       " '3bfc997081': {'neg': 0.235, 'neu': 0.765, 'pos': 0.0, 'compound': -0.4588},\n",
       " '317715cbc5': {'neg': 0.0, 'neu': 1.0, 'pos': 0.0, 'compound': 0.0},\n",
       " '494b8aafd8': {'neg': 0.0, 'neu': 1.0, 'pos': 0.0, 'compound': 0.0},\n",
       " 'a7850c4612': {'neg': 0.068, 'neu': 0.932, 'pos': 0.0, 'compound': -0.1154},\n",
       " 'c0360fd4e9': {'neg': 0.104, 'neu': 0.766, 'pos': 0.131, 'compound': 0.1531},\n",
       " '35210988be': {'neg': 0.276, 'neu': 0.575, 'pos': 0.149, 'compound': -0.2732},\n",
       " 'f11843720f': {'neg': 0.0, 'neu': 1.0, 'pos': 0.0, 'compound': 0.0},\n",
       " '19d585c61b': {'neg': 0.344, 'neu': 0.656, 'pos': 0.0, 'compound': -0.6472},\n",
       " 'f70614e8a5': {'neg': 0.0, 'neu': 0.488, 'pos': 0.512, 'compound': 0.2732},\n",
       " '6015ac6085': {'neg': 0.221, 'neu': 0.779, 'pos': 0.0, 'compound': -0.6083},\n",
       " '77338f26c5': {'neg': 0.0, 'neu': 0.682, 'pos': 0.318, 'compound': 0.6369},\n",
       " '4441b5b0dc': {'neg': 0.0, 'neu': 1.0, 'pos': 0.0, 'compound': 0.0},\n",
       " 'ce5dd24a33': {'neg': 0.0, 'neu': 1.0, 'pos': 0.0, 'compound': 0.0},\n",
       " 'a8b5846c0e': {'neg': 0.0, 'neu': 0.847, 'pos': 0.153, 'compound': 0.5028},\n",
       " 'dba3019318': {'neg': 0.0, 'neu': 0.709, 'pos': 0.291, 'compound': 0.5719},\n",
       " 'f2737e9c15': {'neg': 0.191, 'neu': 0.26, 'pos': 0.549, 'compound': 0.629},\n",
       " 'f62706f76e': {'neg': 0.0, 'neu': 1.0, 'pos': 0.0, 'compound': 0.0},\n",
       " '2554631fd6': {'neg': 0.0, 'neu': 0.929, 'pos': 0.071, 'compound': 0.1531},\n",
       " '5d94b30c0f': {'neg': 0.0, 'neu': 0.641, 'pos': 0.359, 'compound': 0.68},\n",
       " 'c35f392086': {'neg': 0.08, 'neu': 0.771, 'pos': 0.148, 'compound': 0.4646},\n",
       " '83cdbdeada': {'neg': 0.0, 'neu': 1.0, 'pos': 0.0, 'compound': 0.0},\n",
       " '6e76e15092': {'neg': 0.21, 'neu': 0.644, 'pos': 0.146, 'compound': -0.3182},\n",
       " '11a05040a9': {'neg': 0.0, 'neu': 0.513, 'pos': 0.487, 'compound': 0.2263},\n",
       " 'edd0fa3494': {'neg': 0.0, 'neu': 0.646, 'pos': 0.354, 'compound': 0.5242},\n",
       " '80c985a159': {'neg': 0.0, 'neu': 1.0, 'pos': 0.0, 'compound': 0.0},\n",
       " 'ad2e9f53be': {'neg': 0.204, 'neu': 0.796, 'pos': 0.0, 'compound': -0.3182},\n",
       " 'a2e0a7c278': {'neg': 0.117, 'neu': 0.811, 'pos': 0.072, 'compound': 0.0129},\n",
       " 'd153e50085': {'neg': 0.279, 'neu': 0.443, 'pos': 0.278, 'compound': -0.0083},\n",
       " 'ff5950afbb': {'neg': 0.0, 'neu': 1.0, 'pos': 0.0, 'compound': 0.0},\n",
       " '6632d58c82': {'neg': 0.0, 'neu': 0.819, 'pos': 0.181, 'compound': 0.4753},\n",
       " '1f82ec212e': {'neg': 0.0, 'neu': 1.0, 'pos': 0.0, 'compound': 0.0},\n",
       " '1c32289f9a': {'neg': 0.0, 'neu': 0.412, 'pos': 0.588, 'compound': 0.7984},\n",
       " '5250e01ce0': {'neg': 0.0, 'neu': 1.0, 'pos': 0.0, 'compound': 0.0},\n",
       " 'b6c236ef0d': {'neg': 0.0, 'neu': 0.761, 'pos': 0.239, 'compound': 0.7845},\n",
       " '2a8f304f11': {'neg': 0.159, 'neu': 0.841, 'pos': 0.0, 'compound': -0.6105},\n",
       " '584ed4d88e': {'neg': 0.0, 'neu': 0.878, 'pos': 0.122, 'compound': 0.3612},\n",
       " 'f4e66c4f1a': {'neg': 0.11, 'neu': 0.89, 'pos': 0.0, 'compound': -0.3578},\n",
       " '520d782e5e': {'neg': 0.0, 'neu': 0.903, 'pos': 0.097, 'compound': 0.3578},\n",
       " '60c870e68e': {'neg': 0.0, 'neu': 0.695, 'pos': 0.305, 'compound': 0.7916},\n",
       " '5d97a78333': {'neg': 0.347, 'neu': 0.653, 'pos': 0.0, 'compound': -0.6495},\n",
       " '7f4fd40fcf': {'neg': 0.167, 'neu': 0.833, 'pos': 0.0, 'compound': -0.4215},\n",
       " '92b005cd96': {'neg': 0.499, 'neu': 0.501, 'pos': 0.0, 'compound': -0.6113},\n",
       " '5c09d44365': {'neg': 0.0, 'neu': 0.653, 'pos': 0.347, 'compound': 0.7494},\n",
       " 'c53e7f7415': {'neg': 0.0, 'neu': 1.0, 'pos': 0.0, 'compound': 0.0},\n",
       " '1f40da44dc': {'neg': 0.0, 'neu': 0.734, 'pos': 0.266, 'compound': 0.4404},\n",
       " '0a2bce3efa': {'neg': 0.0, 'neu': 0.521, 'pos': 0.479, 'compound': 0.8481},\n",
       " 'bddc27eafe': {'neg': 0.0, 'neu': 0.533, 'pos': 0.467, 'compound': 0.9186},\n",
       " 'd19ddcc745': {'neg': 0.0, 'neu': 0.788, 'pos': 0.212, 'compound': 0.5106},\n",
       " '0f5a1691df': {'neg': 0.0, 'neu': 0.633, 'pos': 0.367, 'compound': 0.4404},\n",
       " '6fb42d0a8e': {'neg': 0.237, 'neu': 0.763, 'pos': 0.0, 'compound': -0.4215},\n",
       " 'caf284161d': {'neg': 0.0, 'neu': 0.58, 'pos': 0.42, 'compound': 0.4404},\n",
       " 'f541987e81': {'neg': 0.329, 'neu': 0.671, 'pos': 0.0, 'compound': -0.2411},\n",
       " 'f26ab1a9d4': {'neg': 0.199, 'neu': 0.556, 'pos': 0.246, 'compound': 0.1511},\n",
       " '3c3ff93959': {'neg': 0.0, 'neu': 0.368, 'pos': 0.632, 'compound': 0.8225},\n",
       " '1841a654de': {'neg': 0.0, 'neu': 1.0, 'pos': 0.0, 'compound': 0.0},\n",
       " 'dc36435d5a': {'neg': 0.0, 'neu': 0.558, 'pos': 0.442, 'compound': 0.7456},\n",
       " '249bd1fcea': {'neg': 0.0, 'neu': 0.731, 'pos': 0.269, 'compound': 0.6989},\n",
       " '6585732a49': {'neg': 0.375, 'neu': 0.572, 'pos': 0.053, 'compound': -0.8357},\n",
       " '66f8fa737a': {'neg': 0.0, 'neu': 1.0, 'pos': 0.0, 'compound': 0.0},\n",
       " '6970c09cfc': {'neg': 0.0, 'neu': 0.823, 'pos': 0.177, 'compound': 0.6249},\n",
       " 'c16a52d2a7': {'neg': 0.0, 'neu': 0.263, 'pos': 0.737, 'compound': 0.4215},\n",
       " 'a342cf829b': {'neg': 0.0, 'neu': 0.619, 'pos': 0.381, 'compound': 0.5719},\n",
       " 'e4a1945972': {'neg': 0.0, 'neu': 1.0, 'pos': 0.0, 'compound': 0.0},\n",
       " '6268a5fa23': {'neg': 0.0, 'neu': 0.37, 'pos': 0.63, 'compound': 0.5267},\n",
       " '0c667d555e': {'neg': 0.308, 'neu': 0.583, 'pos': 0.108, 'compound': -0.7003},\n",
       " 'a6340877e3': {'neg': 0.0, 'neu': 1.0, 'pos': 0.0, 'compound': 0.0},\n",
       " '4b7059f018': {'neg': 0.134, 'neu': 0.866, 'pos': 0.0, 'compound': -0.3566},\n",
       " 'f1e747751a': {'neg': 0.283, 'neu': 0.544, 'pos': 0.172, 'compound': -0.6652},\n",
       " 'f4317a30ae': {'neg': 0.0, 'neu': 0.508, 'pos': 0.492, 'compound': 0.7763},\n",
       " 'bd5e56bd6d': {'neg': 0.102, 'neu': 0.791, 'pos': 0.107, 'compound': 0.0387},\n",
       " 'c2213ecb79': {'neg': 0.0, 'neu': 0.466, 'pos': 0.534, 'compound': 0.5562},\n",
       " '3521fb0d31': {'neg': 0.0, 'neu': 0.781, 'pos': 0.219, 'compound': 0.4215},\n",
       " '52f70c2da6': {'neg': 0.25, 'neu': 0.75, 'pos': 0.0, 'compound': -0.25},\n",
       " 'f8c1ff9b6e': {'neg': 0.0, 'neu': 1.0, 'pos': 0.0, 'compound': 0.0},\n",
       " 'f5e3ae4806': {'neg': 0.0, 'neu': 1.0, 'pos': 0.0, 'compound': 0.0},\n",
       " '568ad4a905': {'neg': 0.16, 'neu': 0.578, 'pos': 0.262, 'compound': 0.3167},\n",
       " '1e81e55e38': {'neg': 0.0, 'neu': 1.0, 'pos': 0.0, 'compound': 0.0},\n",
       " '753d7f4ac2': {'neg': 0.0, 'neu': 0.895, 'pos': 0.105, 'compound': 0.25},\n",
       " 'fbc44d0924': {'neg': 0.0, 'neu': 1.0, 'pos': 0.0, 'compound': 0.0},\n",
       " 'a8d9ff4fc3': {'neg': 0.0, 'neu': 0.606, 'pos': 0.394, 'compound': 0.8439},\n",
       " 'ec38c9863d': {'neg': 0.159, 'neu': 0.697, 'pos': 0.145, 'compound': 0.1873},\n",
       " 'ab75d13082': {'neg': 0.0, 'neu': 0.373, 'pos': 0.627, 'compound': 0.8555},\n",
       " 'c502223f1e': {'neg': 0.1, 'neu': 0.552, 'pos': 0.347, 'compound': 0.7111},\n",
       " 'b87178f4d3': {'neg': 0.0, 'neu': 1.0, 'pos': 0.0, 'compound': 0.0},\n",
       " '5c3f0ab2aa': {'neg': 0.0, 'neu': 1.0, 'pos': 0.0, 'compound': 0.0},\n",
       " 'e0635b5bbe': {'neg': 0.0, 'neu': 0.909, 'pos': 0.091, 'compound': 0.3182},\n",
       " 'f0e3079931': {'neg': 0.0, 'neu': 0.674, 'pos': 0.326, 'compound': 0.5255},\n",
       " '85c86e7975': {'neg': 0.0, 'neu': 0.66, 'pos': 0.34, 'compound': 0.7351},\n",
       " 'e027da0b8d': {'neg': 0.0, 'neu': 0.562, 'pos': 0.438, 'compound': 0.7783},\n",
       " '992f2b16fb': {'neg': 0.24, 'neu': 0.76, 'pos': 0.0, 'compound': -0.7866},\n",
       " 'c97b52ace6': {'neg': 0.0, 'neu': 1.0, 'pos': 0.0, 'compound': 0.0},\n",
       " '48d8087f95': {'neg': 0.0, 'neu': 1.0, 'pos': 0.0, 'compound': 0.0},\n",
       " '48037ebde3': {'neg': 0.0, 'neu': 1.0, 'pos': 0.0, 'compound': 0.0},\n",
       " 'dffeaa7330': {'neg': 0.236, 'neu': 0.59, 'pos': 0.174, 'compound': -0.1851},\n",
       " '55f2673e6b': {'neg': 0.386, 'neu': 0.361, 'pos': 0.253, 'compound': -0.2732},\n",
       " '4ab133ebad': {'neg': 0.0, 'neu': 0.844, 'pos': 0.156, 'compound': 0.5859},\n",
       " 'ed5a6ba312': {'neg': 0.074, 'neu': 0.926, 'pos': 0.0, 'compound': -0.1531},\n",
       " 'abae918052': {'neg': 0.0, 'neu': 0.649, 'pos': 0.351, 'compound': 0.7574},\n",
       " '7abffbad91': {'neg': 0.0, 'neu': 0.307, 'pos': 0.693, 'compound': 0.8834},\n",
       " '36e6c80b35': {'neg': 0.325, 'neu': 0.5, 'pos': 0.175, 'compound': -0.5106},\n",
       " '8ac49207e1': {'neg': 0.221, 'neu': 0.515, 'pos': 0.264, 'compound': 0.1511},\n",
       " 'c400a6bf99': {'neg': 0.076, 'neu': 0.736, 'pos': 0.188, 'compound': 0.5093},\n",
       " '45a9136ace': {'neg': 0.0, 'neu': 0.545, 'pos': 0.455, 'compound': 0.3612},\n",
       " 'c6b72791c6': {'neg': 0.196, 'neu': 0.542, 'pos': 0.262, 'compound': 0.3806},\n",
       " 'd8b30029da': {'neg': 0.0, 'neu': 0.878, 'pos': 0.122, 'compound': 0.296},\n",
       " '5481448e66': {'neg': 0.158, 'neu': 0.716, 'pos': 0.126, 'compound': -0.2185},\n",
       " 'ae1b6151f2': {'neg': 0.0, 'neu': 1.0, 'pos': 0.0, 'compound': 0.0},\n",
       " 'e0ef3a78fc': {'neg': 0.262, 'neu': 0.738, 'pos': 0.0, 'compound': -0.4939},\n",
       " '9e36c68f31': {'neg': 0.0, 'neu': 1.0, 'pos': 0.0, 'compound': 0.0},\n",
       " '01f7a3b229': {'neg': 0.0, 'neu': 1.0, 'pos': 0.0, 'compound': 0.0},\n",
       " '8c015be59f': {'neg': 0.466, 'neu': 0.534, 'pos': 0.0, 'compound': -0.3865},\n",
       " '72bafdda6a': {'neg': 0.0, 'neu': 1.0, 'pos': 0.0, 'compound': 0.0},\n",
       " '6c2ac7dbcb': {'neg': 0.226, 'neu': 0.774, 'pos': 0.0, 'compound': -0.3252},\n",
       " 'ea953646cb': {'neg': 0.221, 'neu': 0.685, 'pos': 0.094, 'compound': -0.4556},\n",
       " '84200d46e6': {'neg': 0.138, 'neu': 0.703, 'pos': 0.159, 'compound': -0.2578},\n",
       " '0c95eb579e': {'neg': 0.366, 'neu': 0.513, 'pos': 0.121, 'compound': -0.6913},\n",
       " 'ba047dae2b': {'neg': 0.0, 'neu': 0.805, 'pos': 0.195, 'compound': 0.4404},\n",
       " '6be832d308': {'neg': 0.0, 'neu': 0.648, 'pos': 0.352, 'compound': 0.8264},\n",
       " '0bb43bf3bc': {'neg': 0.115, 'neu': 0.885, 'pos': 0.0, 'compound': -0.296},\n",
       " '9b81e91703': {'neg': 0.23, 'neu': 0.614, 'pos': 0.157, 'compound': -0.2658},\n",
       " '66f9e8ee5e': {'neg': 0.0, 'neu': 1.0, 'pos': 0.0, 'compound': 0.0},\n",
       " '6c7f3f8a21': {'neg': 0.0, 'neu': 0.0, 'pos': 1.0, 'compound': 0.4588},\n",
       " '6ec800a85c': {'neg': 0.0, 'neu': 0.743, 'pos': 0.257, 'compound': 0.7081},\n",
       " '56c68e6b45': {'neg': 0.0, 'neu': 0.58, 'pos': 0.42, 'compound': 0.4404},\n",
       " 'ec1c6989b0': {'neg': 0.0, 'neu': 0.905, 'pos': 0.095, 'compound': 0.2003},\n",
       " '1b65a5216d': {'neg': 0.0, 'neu': 0.571, 'pos': 0.429, 'compound': 0.4588},\n",
       " '61fee88949': {'neg': 0.169, 'neu': 0.62, 'pos': 0.211, 'compound': 0.186},\n",
       " '7411938f57': {'neg': 1.0, 'neu': 0.0, 'pos': 0.0, 'compound': -0.0772},\n",
       " '2f36645604': {'neg': 0.0, 'neu': 0.8, 'pos': 0.2, 'compound': 0.3612},\n",
       " 'b38290dfd8': {'neg': 0.0, 'neu': 1.0, 'pos': 0.0, 'compound': 0.0},\n",
       " '2c7965a544': {'neg': 0.0, 'neu': 1.0, 'pos': 0.0, 'compound': 0.0},\n",
       " '1a46538172': {'neg': 0.0, 'neu': 0.701, 'pos': 0.299, 'compound': 0.7498},\n",
       " 'a732d0a8eb': {'neg': 0.0, 'neu': 0.596, 'pos': 0.404, 'compound': 0.9042},\n",
       " 'b2e551b292': {'neg': 0.0, 'neu': 1.0, 'pos': 0.0, 'compound': 0.0},\n",
       " '40ecb95c7e': {'neg': 0.0, 'neu': 0.766, 'pos': 0.234, 'compound': 0.6705},\n",
       " '8a2a4790e0': {'neg': 0.431, 'neu': 0.569, 'pos': 0.0, 'compound': -0.5848},\n",
       " '5a7c51d790': {'neg': 0.0, 'neu': 1.0, 'pos': 0.0, 'compound': 0.0},\n",
       " 'e5909bf38b': {'neg': 0.094, 'neu': 0.602, 'pos': 0.304, 'compound': 0.7871},\n",
       " 'fddcbe9285': {'neg': 0.0, 'neu': 0.833, 'pos': 0.167, 'compound': 0.296},\n",
       " '7c7a445b8d': {'neg': 0.0, 'neu': 0.395, 'pos': 0.605, 'compound': 0.7297},\n",
       " 'fe6301dd3a': {'neg': 0.138, 'neu': 0.862, 'pos': 0.0, 'compound': -0.4939},\n",
       " 'fd98097a71': {'neg': 0.0, 'neu': 0.828, 'pos': 0.172, 'compound': 0.4404},\n",
       " 'a7b4ba7093': {'neg': 0.231, 'neu': 0.513, 'pos': 0.256, 'compound': 0.1007},\n",
       " '6d2170e60f': {'neg': 0.1, 'neu': 0.771, 'pos': 0.129, 'compound': 0.17},\n",
       " ...}"
      ]
     },
     "execution_count": 55,
     "metadata": {},
     "output_type": "execute_result"
    }
   ],
   "source": [
    "res"
   ]
  },
  {
   "cell_type": "code",
   "execution_count": 63,
   "id": "9709e2ce",
   "metadata": {},
   "outputs": [],
   "source": [
    "vaders = pd.DataFrame(res).T\n",
    "vaders = vaders.reset_index().rename(columns={'index':'textID'})\n"
   ]
  },
  {
   "cell_type": "code",
   "execution_count": 64,
   "id": "1013408e",
   "metadata": {},
   "outputs": [],
   "source": [
    "vaders = vaders.merge(df, how='left', on = 'textID')"
   ]
  },
  {
   "cell_type": "code",
   "execution_count": 66,
   "id": "e746a85c",
   "metadata": {},
   "outputs": [
    {
     "data": {
      "text/html": [
       "<div>\n",
       "<style scoped>\n",
       "    .dataframe tbody tr th:only-of-type {\n",
       "        vertical-align: middle;\n",
       "    }\n",
       "\n",
       "    .dataframe tbody tr th {\n",
       "        vertical-align: top;\n",
       "    }\n",
       "\n",
       "    .dataframe thead th {\n",
       "        text-align: right;\n",
       "    }\n",
       "</style>\n",
       "<table border=\"1\" class=\"dataframe\">\n",
       "  <thead>\n",
       "    <tr style=\"text-align: right;\">\n",
       "      <th></th>\n",
       "      <th>textID</th>\n",
       "      <th>neg</th>\n",
       "      <th>neu</th>\n",
       "      <th>pos</th>\n",
       "      <th>compound</th>\n",
       "      <th>text</th>\n",
       "      <th>selected_text</th>\n",
       "      <th>sentiment</th>\n",
       "    </tr>\n",
       "  </thead>\n",
       "  <tbody>\n",
       "    <tr>\n",
       "      <th>0</th>\n",
       "      <td>cb774db0d1</td>\n",
       "      <td>0.000</td>\n",
       "      <td>1.000</td>\n",
       "      <td>0.0</td>\n",
       "      <td>0.0000</td>\n",
       "      <td>I`d have responded, if I were going</td>\n",
       "      <td>I`d have responded, if I were going</td>\n",
       "      <td>neutral</td>\n",
       "    </tr>\n",
       "    <tr>\n",
       "      <th>1</th>\n",
       "      <td>549e992a42</td>\n",
       "      <td>0.474</td>\n",
       "      <td>0.526</td>\n",
       "      <td>0.0</td>\n",
       "      <td>-0.7437</td>\n",
       "      <td>Sooo SAD I will miss you here in San Diego!!!</td>\n",
       "      <td>Sooo SAD</td>\n",
       "      <td>negative</td>\n",
       "    </tr>\n",
       "    <tr>\n",
       "      <th>2</th>\n",
       "      <td>088c60f138</td>\n",
       "      <td>0.494</td>\n",
       "      <td>0.506</td>\n",
       "      <td>0.0</td>\n",
       "      <td>-0.5994</td>\n",
       "      <td>my boss is bullying me...</td>\n",
       "      <td>bullying me</td>\n",
       "      <td>negative</td>\n",
       "    </tr>\n",
       "    <tr>\n",
       "      <th>3</th>\n",
       "      <td>9642c003ef</td>\n",
       "      <td>0.538</td>\n",
       "      <td>0.462</td>\n",
       "      <td>0.0</td>\n",
       "      <td>-0.3595</td>\n",
       "      <td>what interview! leave me alone</td>\n",
       "      <td>leave me alone</td>\n",
       "      <td>negative</td>\n",
       "    </tr>\n",
       "    <tr>\n",
       "      <th>4</th>\n",
       "      <td>358bd9e861</td>\n",
       "      <td>0.000</td>\n",
       "      <td>1.000</td>\n",
       "      <td>0.0</td>\n",
       "      <td>0.0000</td>\n",
       "      <td>Sons of ****, why couldn`t they put them on t...</td>\n",
       "      <td>Sons of ****,</td>\n",
       "      <td>negative</td>\n",
       "    </tr>\n",
       "  </tbody>\n",
       "</table>\n",
       "</div>"
      ],
      "text/plain": [
       "       textID    neg    neu  pos  compound  \\\n",
       "0  cb774db0d1  0.000  1.000  0.0    0.0000   \n",
       "1  549e992a42  0.474  0.526  0.0   -0.7437   \n",
       "2  088c60f138  0.494  0.506  0.0   -0.5994   \n",
       "3  9642c003ef  0.538  0.462  0.0   -0.3595   \n",
       "4  358bd9e861  0.000  1.000  0.0    0.0000   \n",
       "\n",
       "                                                text  \\\n",
       "0                I`d have responded, if I were going   \n",
       "1      Sooo SAD I will miss you here in San Diego!!!   \n",
       "2                          my boss is bullying me...   \n",
       "3                     what interview! leave me alone   \n",
       "4   Sons of ****, why couldn`t they put them on t...   \n",
       "\n",
       "                         selected_text sentiment  \n",
       "0  I`d have responded, if I were going   neutral  \n",
       "1                             Sooo SAD  negative  \n",
       "2                          bullying me  negative  \n",
       "3                       leave me alone  negative  \n",
       "4                        Sons of ****,  negative  "
      ]
     },
     "execution_count": 66,
     "metadata": {},
     "output_type": "execute_result"
    }
   ],
   "source": [
    "vaders.head()"
   ]
  },
  {
   "cell_type": "code",
   "execution_count": 67,
   "id": "1c238f92",
   "metadata": {},
   "outputs": [
    {
     "data": {
      "image/png": "[encoded data removed]",
      "text/plain": [
       "<Figure size 640x480 with 1 Axes>"
      ]
     },
     "metadata": {},
     "output_type": "display_data"
    }
   ],
   "source": [
    "ax =  sns.barplot(data= vaders , x='sentiment' , y='compound')\n",
    "ax.set_title(\"Compound Score by Twitter Review\")\n",
    "plt.show()"
   ]
  },
  {
   "cell_type": "code",
   "execution_count": null,
   "id": "f6788684",
   "metadata": {},
   "outputs": [],
   "source": []
  }
 ],
 "metadata": {
  "kernelspec": {
   "display_name": "Python 3 (ipykernel)",
   "language": "python",
   "name": "python3"
  },
  "language_info": {
   "codemirror_mode": {
    "name": "ipython",
    "version": 3
   },
   "file_extension": ".py",
   "mimetype": "text/x-python",
   "name": "python",
   "nbconvert_exporter": "python",
   "pygments_lexer": "ipython3",
   "version": "3.11.0"
  }
 },
 "nbformat": 4,
 "nbformat_minor": 5
}
